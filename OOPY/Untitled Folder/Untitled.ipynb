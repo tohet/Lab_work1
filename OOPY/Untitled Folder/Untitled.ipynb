{
 "cells": [
  {
   "cell_type": "code",
   "execution_count": 34,
   "id": "09dfa3c4",
   "metadata": {},
   "outputs": [],
   "source": [
    "import requests\n",
    "import PyPDF2\n",
    "\n",
    "from deep_translator import GoogleTranslator\n",
    "\n",
    "from sumy.parsers.plaintext import PlaintextParser\n",
    "from sumy.summarizers.lsa import LsaSummarizer\n",
    "from sumy.nlp.tokenizers import Tokenizer\n",
    "\n",
    "\n",
    "import pandas as pd"
   ]
  },
  {
   "cell_type": "markdown",
   "id": "0f367596",
   "metadata": {},
   "source": [
    "# Проект \"Автоматическая оценка тем для газетных заметок\""
   ]
  },
  {
   "cell_type": "markdown",
   "id": "173c0ddb",
   "metadata": {},
   "source": [
    "## Блок 1: Суммаризация текста\n",
    "    Берёт текст исследования на английском языке - приводит его суммаризацию"
   ]
  },
  {
   "cell_type": "code",
   "execution_count": 33,
   "id": "f8446ce7",
   "metadata": {},
   "outputs": [
    {
     "name": "stdout",
     "output_type": "stream",
     "text": [
      "2023 \n",
      "DEC  \n",
      "Feeling Rich, Feeling \n",
      "Poor: Housing Wealth \n",
      "Effects and \n",
      "Consumption in \n",
      "Europe \n",
      "Serhan Cevik and Sadhna Naik \n",
      "WP/23/256  \n"
     ]
    }
   ],
   "source": [
    "pdf1 = requests.get(\"https://www.imf.org/-/media/Files/Publications/WP/2023/English/wpiea2023256-print-pdf.ashx\")\n",
    "#pdf1 = requests.get(\"https://cyberleninka.ru/article/n/psihologicheskie-osnovy-neyro-lingvisticheskogo-programmirovaniya/pdf\")\n",
    "\n",
    "with open(\"my_pdf.pdf\", 'wb') as my_data:\n",
    "    my_data.write(pdf1.content)\n",
    "    \n",
    "open_pdf_file = open(\"my_pdf.pdf\", 'rb')\n",
    "read_pdf = PyPDF2.PdfReader(open_pdf_file)\n",
    "\n",
    "page_num = 0\n",
    "\n",
    "if read_pdf.is_encrypted:\n",
    "    read_pdf.decrypt(\"\")\n",
    "    print(read_pdf.pages[page_num].extract_text())\n",
    "\n",
    "else:\n",
    "    print(read_pdf.pages[page_num].extract_text())"
   ]
  },
  {
   "cell_type": "code",
   "execution_count": 22,
   "id": "6a0f1217",
   "metadata": {},
   "outputs": [],
   "source": [
    "page_read = ''\n",
    "page_read = read_pdf.pages[page_num].extract_text()"
   ]
  },
  {
   "cell_type": "code",
   "execution_count": 23,
   "id": "bda72281",
   "metadata": {},
   "outputs": [],
   "source": [
    "text1 = 'EXECUTIVE SUMMARY The Thirteenth Periodic Monitoring Report (PMR) on the Status of Management Implementation Plans (MIPs) in Response to Board-Endorsed Independent Evaluation Office (IEO) Recommendations assesses the progress made over the past year on 95 actions contained in 11 MIPs. Notwithstanding the lingering effects of the COVID-19 pandemic, the impact of the war in Ukraine, and other important global challenges, which continue to place a heavy burden on the Fund’s workload, further progress has been made since the last PMR with the implementation of management actions, although at a slower pace. Overall, of the 95 actions for which implementation progress is assessed in the Thirteenth PMR, 23 actions are deemed to have been satisfactorily implemented, while 72 actions remain open. Despite the continued need to accommodate multiple demands from the membership, the pace of implementation in the Thirteenth PMR, although slower than the 39 actions closed in the previous PMR, was faster than the average of about 15 implemented actions a year registered before 2020. Following the implementation of several actions and key steps of a strategic nature in 2022 that had been delayed because of the reprioritization of activities due to the pandemic, progress since the completion of the Twelfth PMR has concentrated mainly on actions of a more operational nature. Other factors contributing to the slower implementation observed last year included the relatively high implementation rate recorded in the period covered by the Twelfth PMR (related in part to the “normalization” experienced after the pandemic) and the fact that some actions still open entail complex or additional processes that are taking longer than originally anticipated. In addition, it is important to note that many of the management actions envisaged in two new MIPs on The IMF and Capacity Development and IMF Engagement with Small Developing States (which contain 46 of the 95 actions assessed in this PMR) remain open because they have target implementation dates in the future. Overall, progress has been made since the Twelfth PMR on actions in response to eight IEO evaluations, with the pace of implementation being faster on actions October 31, 2023 THIRTEENTH PERIODIC MONITORING REPORT 2 INTERNATIONAL MONETARY FUND contained in the MIP in Response to the Executive Board-Endorsed Categorization of Open Actions in Management Implementation Plans. It is also worth mentioning that many open actions depend on the implementation of some important reviews/key steps that are expected to be completed in or soon after December 2023, such as the Capacity Development (CD) Strategy Review, the issuance of a new CD Guidance Note, an update of the Small Developing States Staff Guidance Note (SDS-SGN), the Operational Guidance Note (OGN) on Program Design and Conditionality, and a Board paper on Bank-Fund collaboration. Of the 72 actions that remain open after this Thirteenth PMR, 13 actions are more than one year past their target implementation dates; these actions continue to progress, although at varying paces. Although work on some critical areas relating to the talent inventory has been completed, progress has been slow in other areas, including on expanding the identification of macrofinancial skills. As noted in the Twelfth PMR, work in these areas remains incomplete due to workload and bandwidth issues associated with the implementation of several other initiatives being faced by HRD, such as the hiring related to the structural budget augmentation, 1HR/HR Modernization related activities, and ongoing work on the HR aspects of the CD strategy review. On the statistical front, the update of statistical manuals has advanced further and is expected to be finalized by CY25; work on unifying area department data management guidelines has also advanced; and a plan to further clarify the distinction between “official statistics” and data used by area and functional departments in surveillance activities awaits the issuance of the Data Provision to the Fund for Surveillance Purposes (DPF) Guidance Note, which has taken longer than expected because of delays in completing the DPF review. In addition, a follow-up SPR/FAD guidance note to assist with the implementation of the social spending strategy has been delayed due to the reprioritization of activities in the context of the pandemic and should be completed by end-FY24. Two other actions that were overdue as of the Twelfth PMR, consisting of the issuance of a Guidance Note to support the rollout of the Country Engagement Strategy (CES) and the rollout of an upgraded corporate vulnerabilities surveillance tool, have already been completed. In recent PMRs, OIA focused on those overdue actions that are more than one year past their target implementation dates, with the one-year grace period being allowed in recognition that progress in implementation could be hindered by the reprioritization of activities that took place in the context of the COVID-19 pandemic. With the Fund returning to a postpandemic normal, the retention of this one-year grace period is no longer deemed necessary. Therefore, starting with the Fourteenth PMR, OIA will modify the definition of overdue actions to also include all actions that are not completed by the originally agreed-upon implementation due dates. As a transitional step towards this more comprehensive approach, this PMR includes an Annex that provides a separate list of those actions which are less than one year past their target implementation dates. This PMR also describes the progress that has been made recently on the development of a slippages framework. In response to the Executive Board’s call for a framework to assess the impact of slippages in the implementation of open management actions, the Twelfth PMR presented the advances that had been made on the development of a slippages framework and identified the core guiding principles that could underpin it. At that time, it was noted that the timeline for developing the slippages framework would follow closely that of the broader institutional Enterprise Risk Management (ERM) framework, and that the resource implications would need to be carefully assessed. Since then, progress has been made through the Board endorsement of the institutional ERM framework, and use of the recent MIP on the IMF’s Emergency Response to the COVID-19 Pandemic as a pilot for the application of a slippages framework. The slower pace of implementation recorded in this PMR should be considered against the backdrop of intense competing work pressures and the need for greater Board engagement. Looking ahead, prioritization of implementation efforts will be particularly key especially in the current environment of already elevated workloads.'\n",
    "text2 = 'During the Global Financial Crisis in 2008 and the COVID-19 pandemic in early 2020, the central banks of advanced economies lowered policy rates effectively to the zero lower bound (ZLB) and conducted ultra-easy monetary policy for extended periods, including the so-called unconventional monetary policy (UMP) operations. The view that such policies helped to avoid a financial meltdown and close output and inflation gaps has broad support, but there have also been concerns in some quarters that ultra-easy monetary policy is not a “free lunch.” In particular, there have been suggestions that ultra-easy monetary policy for long periods could lead to unsustainable capital flows and booms in housing and financial asset prices, thus raising the odds of a future financial crisis (IMF, IEO, 2019) and supporting weak companies at the cost of healthy ones, leading to their zombification. Justification for the ultra-easy monetary policy has evolved over time. In the aftermath of the bankruptcy of Lehman Brothers in September 2008 and at the start of the COVID-19 pandemic, the exceptional measures introduced by the central banks of major economies were aimed at restoring financial stability since there were serious concerns about the possibility of a financial meltdown with implications for the real economy. There is a broad consensus that these policies successfully prevented a financial meltdown. However, as the financial system stabilized, the justification for ultra-easy monetary policy was changed to link it to the need to restore aggregate demand after the sharp economic downturns in the absence of inflationary pressures. On theoretical and practical considerations, ultra-easy monetary policy could easily be defended. After the recession of 2008 and during 2020 and early 2021, many economies were operating well below potential, and inflationary pressures remained subdued. Indeed, various authors used versions of the Taylor rule to assert that the real policy rate required to reestablish a full employment equilibrium (and prevent deflation) was significantly negative (White, 2012). In this context, “shadow interest rates” can be a useful tool to assess the actual monetary policy stance since they can reach negative values, including through the implementation of UMP such as quantitative easing.1 On the transmission mechanism of quantitative easing, Joyce and others (2012) review in detail its main theoretical channels, Krishnamurthy & Vissing-Jorgensen (2011) analyze channels in an empirical micro setting to assess the effectiveness of the first two programs of QE in the US, Harrison (2012, 2017) and Vayanos & Vila (2009) use New-Keynesian models to assess the beneficial effects of imperfect asset substitutability of agents for quantitative easing (QE) to boost the economy, and Corrado and others (2021) provide evidence that the large-scale asset purchase programs of the Federal Reserve effectively boosted the economy, mainly by modifying the term structure of the interest rates, providing strong economic stimulus throughout the financial sector. However, there is also an alternative perspective that focuses on how extended periods of ultra-loose monetary policy can lead to unintended consequences in the medium-to-long term. In fact, this strand of thought is not new. In particular, the Austrian business cycle theory, spearheaded by von Mises and Hayek, suggests that credit-driven expansions would eventually lead to a costly misallocation of real resources (“malinvestments”) that would end in a crisis. Similarly, under Minsky’s financial-instability hypothesis (Minsky (1977)), easy monetary policy could aggravate financial fragility. There is also a branch of literature considering extended periods of ultra-loose monetary policy as financial repression. For example, Reinhart and Rogoff (2013) and Reinhart and Sbrancia (2015) document how financial repression in the form of low real interest rates, which is essentially a tax on bondholders and savers, contributed significantly to reducing public debt in the period after the Second World War, when capital controls and regulatory restrictions forced “captive” investors to finance government debt at low cost. Related to this, analyzing the experience of 90 countries over 45 years, Jafarov, Maino, and Pani (2019) estimate that financial repression in the form of interest rate ceilings poses a significant drag on growth. In this context, Japan’s experience with ultra-easy monetary policy over many years is informative. Following the collapse of its asset price bubble in late 1991, Japan experienced economic stagnation, the period dubbed “lost decade(s)” by many commentators. In response to chronic deflation and low growth, the Japanese authorities attempted various economic stimuli, running large fiscal deficits and ultra-loose monetary policy. Moreover, Japanese banks often engaged in “sham loan restructurings that kept credit flowing to otherwise insolvent borrowers,” which Caballero and others (2008) called zombies. They estimated that around 30 percent of Japanese firms were recipients of the so-called zombie lending in the late 1990s. Some analysts argue that zombie lending was not only a by-product of economic conditions but also contributed to Japan’s low output growth during its lost decade (Peek and Rosengren, 2005). Similarly, Acharya and others (2019) suggest that the OMT (Outright Monetary Transactions) programs in the eurozone during the Sovereign Debt Crisis have contributed to the zombification of weak firms. They document that while the program improved the health of banks in the periphery of the eurozone and thus supported their lending, most of this lending benefited low-quality borrowers. This outcome, in turn, caused negative spillovers to the more productive firms within sectors with higher shares of zombie firms. Indirectly, these findings imply that expansionary policies may hinder the process of “creative destruction,” where new and stronger firms replace old and less productive firms.2 In this paper, we analyze if extended periods of ultra-loose monetary policy in advanced economies contributed to the zombification of weak firms and to low growth in those economies. Using both firm-level and macroeconomic data, we find that recessions are a critical factor in the increase in the number of zombie firms and that a too-accommodative monetary policy for extended periods is associated with a higher probability of zombification. We also find that, in such environments, small and medium enterprises are more likely to become zombie firms since they are less dynamic than other firms and usually are in the sectors least exposed to foreign competition. Moreover, we find that Japan experienced a larger economic slowdown than other countries (during our sample period of 1996-2021) due to the increases in the number of zombie firms. This raises concerns about the sustainability of too-easy monetary policy implementation, especially in countries with a low growth rate.This paper makes a couple of contributions to the literature. First, it uses both macroeconomic and large microdata from the Orbis data set to study zombification trends and the latter’s impact on resource allocation and growth. Second, it analyzes the impact of the “too low for too long” policies on zombification. The paper is organized as follows: Section 2 describes the data and methods used and presents the results of various empirical analyses of factors of zombification, including extended periods of ultra-loose monetary policy. Section 3 discusses the impact of zombification on economic growth. Section 4 discusses the impact of zombification on financial stability. Section 5 concludes.'\n",
    "text3 = 'We set the stage for the analysis of spillovers by showing the effects of news about the US economy, COVID 19 vaccines and monetary policy on US financial conditions. The relatively mature literature on the domestic effects of US news provides a strong benchmark for the data and methods that we subsequently use to study spillovers to emerge markets. We cover news about the US economy and COVID-19 vaccines in Section 3.1, and news about US monetary policy in Section 3.2. At the same time, this section makes three contributions to the event study literature on the domestic effects of US news. The first is the novel analysis of COVID-19 vaccines. Section 3.1 shows that news about COVID-19 vaccines tended to lift long-term interest rates and stock prices in the US during the pandemic, but not shorter term interest rates. The second contribution is to show that the domestic effects of US monetary policy depend on the reaction of US stock prices to the monetary policy announcement (Section 3.3). When US stock prices move in the same direction as US monetary policy, the US dollar and VIX do not seem to react to the monetary policy decision. We offer interpretations in terms of “information effects” and measurement error correlated with periods of economic stress. Our third contribution is to emphasize that positive employment and monetary policy surprises both lift US interest rates, but they have opposite effects on the VIX (Section 3.4). Positive employment news reduces the VIX, while surprise monetary policy tightenings raise it. This distinction has important implications for spillovers to emerging markets. 3.1. Domestic effects of news about the US economy and vaccines Table 1 shows the estimates of coefficient 𝜒𝜒 from equation (6). Good news about labour market conditions, retail sales, economic activity and COVID-19 vaccines, and higher-than-expected inflation, all lift US nominal interest rates.12 Like Faust et al. (2007), we find the peak effect of employment news and core CPI inflation at the 2-year maturity, but our estimates suggest that core PPI inflation has stronger effects at longer maturities, perhaps because producer prices take time to pass through to consumer prices. Long-term interest rates also respond to various types of US economic news (including employment, jobless claims, retail sales, GDP and inflation). The importance of these types of news was established in Gürkaynak, Sack and Swanson (2005), but we show that positive news about COVID-19 vaccines also lifts long-term US interest rates. The directions of these effects on interest rates are consistent with those of Fleming and Remolona (1999) and Faust et al. (2007), but they are smaller in magnitude.13 The difference could either be because the importance of such news has decreased over time (as Faust et al. (2007) find), or because the effects that those authors identify do not persist as strongly over a full day. While all types of economic news lift US interest rates, they act on different components of the yield curve. Positive news about US employment, and higher-than-expected CPI inflation lift interest rates by driving up expectations of future monetary policy tightening, consistent with a Taylor rule. By contrast, positive news about US economic activity and higher-than-expected PPI inflation lifts interest rates by increasing the term premium embedded in longer-term yields, suggesting that they affect investors’ risk perceptions or risk tolerance. News about jobless claims and retail sales drives both components of the yield curve, with slightly more weight on expected future monetary policy. Altavilla et al. (2017) also find that US economic news tends to exert stronger effects on expected future monetary policy rates than on term premia. The US dollar tends to appreciate after positive news about US employment or lower-than-expected producer price inflation, but it does not clearly respond to news about economic activity or vaccines. A one standard deviation surprise increase in US employment tends to appreciate the US dollar by 9.9 basis points against the currencies of its trading partners over one day, which is similar to other estimates in the literature. Andersen et al. (2003) find that such a surprise leads the dollar to appreciate by 8 basis points against the euro over 5 minutes, and Faust et al. (2007) find that such a surprise leads the dollar to appreciate by 15 basis points against the euro over 20 minutes. US stock prices do not respond clearly to news about labour market conditions, economic activity or inflation, although they tentatively increase after positive news about retail sales.14 This lack of response is well documented in the literature. Stock prices may not respond to news about labour market conditions or economic activity because the implications for future corporate earnings could be offset by the effects on investor discount rates. Alternatively, stock prices may show no correlation with employment because the relationship can be positive or negative at different times, depending on the state of the economy (Boyd et al., 2005). Our point estimate for the effect of inflation on stock prices is negative, which agrees with the event study estimates in Rigobon and Sack (2008), but the lack of statistical significance suggests that the effects that they find over 30-minute windows do not clearly persist over the whole day. Stock prices may not correlate with news about inflation because the reaction of stock prices depends on whether the inflation news is supply or demand-driven (Hess and Lee, 1999).15 During the pandemic of 2020, the Federal Reserve committed to maintaining interest rates low for a long time, until full employment and 2 percent inflation had been reached. Therefore, we would not expect investors’ short-term discount rates to increase significantly in this period with good economic news. Consistent with this view, news about COVID-19 vaccines tended to lift US stock prices, without lifting medium-term interest rates (up to the 5-year maturity) or expected future short-term interest rates. The literature finds that even though event study regressions are well-identified, they tend to explain little of the variation in the dependent variable, possibly because of measurement error in the economic surprise variables used (Rigobon and Sack, 2008). We find similar results. News about US labour market conditions, economic activity and inflation explains more of the movements in Treasury yields than of stock returns, which mirrors the pattern in statistical significance of their slope coefficients in Table 1. Among Treasury yields, economic news is better able to explain movements in 2-year and 10-year yields, because they are more sensitive than 3-month yields to news. For 10-year Treasury yields, and among the news types that are significant at the 5 percent level in Table 1, employment news explains the highest share of variation (18 percent) and core PPI inflation explains the lowest share (3.4 percent). Conversely, news about vaccines explains more of the variation in stock returns (30 percent), than in Treasury yields (8 percent for the 10-year yield).16 3.2. Domestic effects of news about US monetary policy The last row of Table 1 looks at the effect of monetary policy announcements. Positive US monetary policy surprises tend to lift US interest rates at all maturities. Since we have chosen the 2-year Treasury yield as our monetary policy instrument, the coefficient of 5.3 on this yield matches the standard deviation of monetary policy surprises.17 Monetary tightenings lead US interest rates to rise even at long horizons, as emphasized by Gürkaynak, Sack and Swanson (2005). The effects of economic news and monetary policy surprises on interest rates are in line with those reported in Gürkaynak, Kısacıkoğlu and Wright (2020), although the estimates are less precise here due to our longer (daily) event windows, shorter (post-2000 only) sample period and HAC standard errors. We find that this rise in long-term rates appears to work through expectations of future monetary policy tightenings, rather than increases in term premia, which is consistent with Gürkaynak, Kısacıkoğlu and Wright (2020). This suggests that US monetary policy actions using interest rates do not act through the supply of duration risk available to investors. This contrasts with the Federal Reserve’s asset purchases since 2008, which have reduced the supply of long-term securities available to investors, thereby reducing their yields and the term premium (Gagnon et al., 2011). Every one-standard deviation monetary policy tightening leads the US dollar to appreciate over one day against trading partner currencies by 18.4 basis points. Equivalently, every 100-basis point monetary policy tightening appreciates the US dollar by 3.4 percent. It is difficult to benchmark this number against previous work, because previous papers like Faust et al. (2007) use the target Federal Funds rate as the monetary policy instrument, whereas we use the 2-year Treasury yield. Nevertheless, the results in Faust et al. (2007) are of the same order of magnitude. They find that a 100-basis point increase in the Federal Funds target rate appreciates the US dollar by 1.2 percent against the euro. Every one-standard deviation monetary policy tightening (about 5.4 basis points) leads US stock prices to fall by about 33 basis points over a day,18 or equivalently, every 1 percentage point tightening leads stock prices to fall by 6.1 percent. This result is close to the 4.7 percent found in Bernanke and Kuttner (2005), even though those authors use Federal Funds Futures as the monetary policy instrument. 3.3. Domestic “information effects” of US monetary policy Table 2 shows results of estimating equations (3) and (4), which allow US monetary policy to have different effects on US financial conditions depending on whether US stock prices move in the same or different direction to monetary policy. The bottom rows of the table test formally whether these two effects differ from each other by more than could be expected from simple sampling variation. Conditional on monetary policy and stocks moving in different directions, the effects of US monetary policy are close to the unconditional effects estimated previously. When stocks move in the same direction as monetary policy, US monetary policy has slightly stronger effects on US interest rates, which seem to be driven by slightly stronger effects on expected future short-term interest rates rather than term premia (although the increases in sensitivities of interest rates are not statistically significant). A one standard deviation (5.4-basis point) surprise increase in the 2-year US Treasury yield on FOMC announcement days leads to a 2.9-basis point increase in 10-year US Treasury yields over a day if stock prices fall at the announcement, and a 3.9- basis point increase if stock prices rise. These magnitudes are equivalent to increases of 57 and 78 basis points, respectively, per percentage point US monetary tightening, after correcting for rounding. Furthermore, when stocks move in the same direction as monetary policy rates, US monetary policy shows no statistically significant effect on the US dollar or the VIX. Therefore, instead of the US dollar appreciating and the VIX increasing with a surprise US monetary tightening, an accompanying increase in stock prices means that the US dollar and VIX do not change with the tightening. The difference in sensitivities is statistically significant for the US dollar, and only marginally significant for the VIX. Finally, the reaction of stock prices at an intradaily frequency is by construction, but the reaction of stock prices at the daily frequency shows that the identification strategy here extends to the broader Wilshire 5000 index and persists over a full day, albeit with a loss of precision. The results therefore strongly support the hypothesis that monetary policy has domestic effects that depend on the stock price reaction to monetary policy. Jarocinski and Karadi (2020) interpret similar results as evidence that the Federal Reserve reveals information about the economic outlook—the so-called “information effects” of US monetary policy. However, from our perspective, an equally plausible explanation seems to be that monetary policy surprises, or stock price surprises, are poorly measured on some days, and this mismeasurement is more likely to occur during times of economic stress. The Appendix presents evidence for this alternative interpretation in the data and in news media reports. Both interpretations can be consistent with the results from Table 2. An “information effects” interpretation would say that US interest rates rise slightly more, in response to US monetary policy tightenings that reveal positive information about the outlook, than they do in response to other such tightenings. Similarly, positive information about the US economic outlook would lower the VIX, which offsets the tendency for US monetary policy tightenings otherwise to lift the VIX, and therefore results in no clear change in the VIX. However, the “information effects” interpretation has more difficulty explaining the response of the US dollar, which in principle should appreciate even more if a US monetary policy tightening reveals positive information about the outlook. Under the alternative interpretation of measurement error that is correlated with economic stress, US monetary policy is slightly more effective at influencing interest rates in times of economic stress. For this interpretation, monetary policy easings would have to be less effective at lowering the VIX or depreciating the US dollar in times of economic stress. This could be consistent with the increases in VIX and US dollar appreciations that occur at such times. These event-study results for the 10-year Treasury yield and stock prices are within one-and-a-half standard deviations of the results in Hoek et al. (2022), although the longer sample periods here increase the precision of the estimates. Our results for the other variables (3-month and 2-year yields, term premia, expected future short-term interest rates, the US dollar index and the VIX) seem to be new in the literature. 3.4. US news, risk premia, and volatility Sabor and Wilson (2013) find a risk premium on US stocks associated with days of US economic news announcements, which is independent of the contents of the announcements, but they do not identify which type of news is most important in driving this premium. We capture the expected returns on announcement days through the intercept term 𝛿𝛿 in equation (6), because the means of the economic news and monetary policy surprises are close to zero. The estimated intercept (𝛿𝛿) is highest for monetary policy surprises and implies a 28.6 basis point daily return on US stocks on these days (standard error of 11.8, statistically significant at the 5 percent level). This finding suggests that investors perceive the greatest risk from monetary policy announcements. There is little evidence for other types of macroeconomic news in driving the equity risk premium. The intercept for jobless claims is 6.9 basis points, but it is only statistically significant at the 10 percent level (standard error 4.1), and the intercepts are not statistically significant for other types of news. The results also suggest that US news has important effects on investors’ risk perception or risk tolerance. While good news about US employment, retail sales and vaccines tend to reduce the VIX, surprise monetary policy tightenings tend to raise the VIX (Table 1). We find that every one-standard deviation US monetary policy tightening (a 5.4 basis point increase in 2-year Treasury yields) increases the VIX by 1.7 percent over a day. This result is similar to that in Bekaert et al. (2013), who find, using high-frequency 3-month Federal Funds Futures as the monetary policy instrument, that a 29-basis point monetary policy tightening leads to a 1.3 and 4.7 percent increase in two components of the VIX over a day. The estimates of the intercepts (𝛿𝛿) from equation (6) suggest that risk perceptions or risk aversion tend to fall in days of employment or monetary policy announcements, independently of the contents of those announcements. These intercepts are -1.8 percent for employment announcement days, and -2.4 percent for monetary policy announcement days (both estimates have standard errors of 0.47 and are significant at the 1 percent level).'\n",
    "parser = PlaintextParser.from_string(page_read,Tokenizer(\"english\"))"
   ]
  },
  {
   "cell_type": "code",
   "execution_count": 24,
   "id": "a57bad0b",
   "metadata": {},
   "outputs": [],
   "source": [
    "summarizer_lsa = LsaSummarizer()\n",
    "summary_2 =summarizer_lsa(parser.document,5)"
   ]
  },
  {
   "cell_type": "code",
   "execution_count": 25,
   "id": "26023915",
   "metadata": {
    "scrolled": false
   },
   "outputs": [],
   "source": [
    "sum_text = ''\n",
    "for sentence in summary_2:\n",
    "    sum_text += (' ' + sentence._text)\n",
    "    #print(sentence)"
   ]
  },
  {
   "cell_type": "code",
   "execution_count": 26,
   "id": "339b8b1c",
   "metadata": {},
   "outputs": [
    {
     "data": {
      "text/plain": [
       "'Increasing (decreasing) house prices can stimulate (dampen) consumption by raising  the level of household wealth  and eas ing borrowing constraints.'"
      ]
     },
     "execution_count": 26,
     "metadata": {},
     "output_type": "execute_result"
    }
   ],
   "source": [
    "dir(summary_2[0])\n",
    "summary_2[0]._text"
   ]
  },
  {
   "cell_type": "code",
   "execution_count": 27,
   "id": "7bbf51c5",
   "metadata": {},
   "outputs": [
    {
     "data": {
      "text/plain": [
       "' Increasing (decreasing) house prices can stimulate (dampen) consumption by raising  the level of household wealth  and eas ing borrowing constraints. Estimation results confirm that househol ds consume more when house prices and income  growth  increase in real terms. However, the effects on consumer spending are short -lived and grow smaller over time. Quantitatively, using seasonally -adjusted quarter -on-quarter growth rates, we find that private consumption  falls by 0.13 percentage points on average for one percent decrease in  real hous e prices and 0.0 2 percentage points for a one percent decrease  in real gross  disposable income in the first quarter after the shock , plateauing after six and four  quarters , respectively . A wide range of empirical studies has confirmed th is relationship across different countries and over time.'"
      ]
     },
     "execution_count": 27,
     "metadata": {},
     "output_type": "execute_result"
    }
   ],
   "source": [
    "sum_text"
   ]
  },
  {
   "cell_type": "markdown",
   "id": "a6150216",
   "metadata": {},
   "source": [
    "## Блок 2: Перевод на русский язык\n",
    "    Переводит суммаризированный кусок на русский язык"
   ]
  },
  {
   "cell_type": "code",
   "execution_count": 28,
   "id": "d6a18e58",
   "metadata": {},
   "outputs": [
    {
     "data": {
      "text/plain": [
       "'Повышение (снижение) цен на жилье может стимулировать (ослаблять) потребление за счет повышения уровня благосостояния домохозяйств и смягчения ограничений по заимствованиям. Результаты оценок подтверждают, что домохозяйства потребляют больше, когда цены на жилье и рост доходов увеличиваются в реальном выражении. Однако влияние на потребительские расходы кратковременно и со временем становится меньше. Количественно, используя ежеквартальные темпы роста с учетом сезонных колебаний, мы обнаруживаем, что частное потребление падает в среднем на 0,13 процентных пункта при снижении реальных цен на жилье на один процент и на 0,0,2 процентных пункта при уменьшении реального валового располагаемого дохода на один процент. в первом квартале после шока, стабилизировавшись после шести и четырех кварталов, соответственно. Широкий спектр эмпирических исследований подтвердил эту взаимосвязь в разных странах и с течением времени.'"
      ]
     },
     "execution_count": 28,
     "metadata": {},
     "output_type": "execute_result"
    }
   ],
   "source": [
    "input_text = 'its so fucking deep' \n",
    "GoogleTranslator(source='auto', target='ru').translate(sum_text)"
   ]
  },
  {
   "cell_type": "markdown",
   "id": "c73875fb",
   "metadata": {},
   "source": [
    "## Блок 3: Оценка интересности темы\n",
    "    На основе базы принятых и отвергнутых заявок приводит вероятность того, что заявка будет принята"
   ]
  },
  {
   "cell_type": "markdown",
   "id": "82954b81",
   "metadata": {},
   "source": [
    "Ссылка на датасет: https://docs.google.com/spreadsheets/d/1Bc1y9dTHNxZGIjntn4tAhZZVgytSGQyW/edit?usp=sharing&ouid=117489390843898640771&rtpof=true&sd=true"
   ]
  },
  {
   "cell_type": "code",
   "execution_count": 43,
   "id": "4e4355ef",
   "metadata": {},
   "outputs": [
    {
     "data": {
      "text/html": [
       "<div>\n",
       "<style scoped>\n",
       "    .dataframe tbody tr th:only-of-type {\n",
       "        vertical-align: middle;\n",
       "    }\n",
       "\n",
       "    .dataframe tbody tr th {\n",
       "        vertical-align: top;\n",
       "    }\n",
       "\n",
       "    .dataframe thead th {\n",
       "        text-align: right;\n",
       "    }\n",
       "</style>\n",
       "<table border=\"1\" class=\"dataframe\">\n",
       "  <thead>\n",
       "    <tr style=\"text-align: right;\">\n",
       "      <th></th>\n",
       "      <th>offer</th>\n",
       "      <th>accepted</th>\n",
       "    </tr>\n",
       "  </thead>\n",
       "  <tbody>\n",
       "    <tr>\n",
       "      <th>0</th>\n",
       "      <td>БИС выяснили, что современная инфляция, котора...</td>\n",
       "      <td>0,00</td>\n",
       "    </tr>\n",
       "    <tr>\n",
       "      <th>1</th>\n",
       "      <td>немецкий ifo второй месяц подряд повысил свой ...</td>\n",
       "      <td>0,00</td>\n",
       "    </tr>\n",
       "    <tr>\n",
       "      <th>2</th>\n",
       "      <td>В МВФ сообщили, что для достижения цели по зам...</td>\n",
       "      <td>0,00</td>\n",
       "    </tr>\n",
       "    <tr>\n",
       "      <th>3</th>\n",
       "      <td>ЕЦБ предупредил о трех главных рисках для евро...</td>\n",
       "      <td>1,00</td>\n",
       "    </tr>\n",
       "    <tr>\n",
       "      <th>4</th>\n",
       "      <td>\\nУ Европы тем временем внешняя торговля в про...</td>\n",
       "      <td>0,00</td>\n",
       "    </tr>\n",
       "    <tr>\n",
       "      <th>5</th>\n",
       "      <td>В Британии ещё хотят урезать налог на наследст...</td>\n",
       "      <td>1,00</td>\n",
       "    </tr>\n",
       "    <tr>\n",
       "      <th>6</th>\n",
       "      <td>Полиция Лондона сообщила, что с 1 апреля этого...</td>\n",
       "      <td>0,00</td>\n",
       "    </tr>\n",
       "    <tr>\n",
       "      <th>7</th>\n",
       "      <td>\\nВ общем IIF посчитали, что глобальный долг (...</td>\n",
       "      <td>0,00</td>\n",
       "    </tr>\n",
       "    <tr>\n",
       "      <th>8</th>\n",
       "      <td>Morgan Stanley назвал три сценария развития си...</td>\n",
       "      <td>1,00</td>\n",
       "    </tr>\n",
       "    <tr>\n",
       "      <th>9</th>\n",
       "      <td>они ожидают, что ФРС будет понижать ставки уже...</td>\n",
       "      <td>1,00</td>\n",
       "    </tr>\n",
       "    <tr>\n",
       "      <th>10</th>\n",
       "      <td>\"В США опасаются нового краха банков\". Всё в о...</td>\n",
       "      <td>0,00</td>\n",
       "    </tr>\n",
       "    <tr>\n",
       "      <th>11</th>\n",
       "      <td>\"Коррупция убивает. Глобальные доказательства...</td>\n",
       "      <td>1,00</td>\n",
       "    </tr>\n",
       "    <tr>\n",
       "      <th>12</th>\n",
       "      <td>В немецком IFO уверены, что экономика Германии...</td>\n",
       "      <td>0,00</td>\n",
       "    </tr>\n",
       "    <tr>\n",
       "      <th>13</th>\n",
       "      <td>Миллиардер-инвестор, основатель Duquesne Capit...</td>\n",
       "      <td>0,00</td>\n",
       "    </tr>\n",
       "    <tr>\n",
       "      <th>14</th>\n",
       "      <td>Рост цен в Еврозоне, согласно предварительным ...</td>\n",
       "      <td>1,00</td>\n",
       "    </tr>\n",
       "    <tr>\n",
       "      <th>15</th>\n",
       "      <td>Инвестиции в развивающиеся рынки сокращаются в...</td>\n",
       "      <td>1,00</td>\n",
       "    </tr>\n",
       "    <tr>\n",
       "      <th>16</th>\n",
       "      <td>Вчера вышел комбинированный доклад 10 междунар...</td>\n",
       "      <td>0,00</td>\n",
       "    </tr>\n",
       "    <tr>\n",
       "      <th>17</th>\n",
       "      <td>\\r\\nТам ещё главный инвестстратег из Bank of A...</td>\n",
       "      <td>0,00</td>\n",
       "    </tr>\n",
       "    <tr>\n",
       "      <th>18</th>\n",
       "      <td>МВФ проанализировали меры по поддержке экономи...</td>\n",
       "      <td>0,00</td>\n",
       "    </tr>\n",
       "    <tr>\n",
       "      <th>19</th>\n",
       "      <td>Банк Англии увидел риски в распространяющемся ...</td>\n",
       "      <td>0,00</td>\n",
       "    </tr>\n",
       "    <tr>\n",
       "      <th>20</th>\n",
       "      <td>Рэй Далио, основатель и бывший управляющий кру...</td>\n",
       "      <td>1,00</td>\n",
       "    </tr>\n",
       "    <tr>\n",
       "      <th>21</th>\n",
       "      <td>Рейтер сегодня ещё написал, что разница в дохо...</td>\n",
       "      <td>1,00</td>\n",
       "    </tr>\n",
       "    <tr>\n",
       "      <th>22</th>\n",
       "      <td>Экономика Нидерландов вступила в рецессию, пос...</td>\n",
       "      <td>0,00</td>\n",
       "    </tr>\n",
       "    <tr>\n",
       "      <th>23</th>\n",
       "      <td>Эксперты ЕЦБ выдвинули 4 сценария фрагментации...</td>\n",
       "      <td>1,00</td>\n",
       "    </tr>\n",
       "    <tr>\n",
       "      <th>24</th>\n",
       "      <td>В июле в Китае впервые за год была зафиксирова...</td>\n",
       "      <td>1,00</td>\n",
       "    </tr>\n",
       "    <tr>\n",
       "      <th>25</th>\n",
       "      <td>Всемирный банк включил Россию в топ-5 экономик...</td>\n",
       "      <td>1,00</td>\n",
       "    </tr>\n",
       "    <tr>\n",
       "      <th>26</th>\n",
       "      <td>ам ОЭСР пишет, что у ее стран инфляция упала д...</td>\n",
       "      <td>0,00</td>\n",
       "    </tr>\n",
       "    <tr>\n",
       "      <th>27</th>\n",
       "      <td>Тут из Мудиса  deputy chief economist рассказа...</td>\n",
       "      <td>0,00</td>\n",
       "    </tr>\n",
       "    <tr>\n",
       "      <th>28</th>\n",
       "      <td>Агентство Fitch приняло решение понизить долго...</td>\n",
       "      <td>1,00</td>\n",
       "    </tr>\n",
       "    <tr>\n",
       "      <th>29</th>\n",
       "      <td>Тут вчера ОЭСР выпустил бумагу, по которой биз...</td>\n",
       "      <td>1,00</td>\n",
       "    </tr>\n",
       "    <tr>\n",
       "      <th>30</th>\n",
       "      <td>\\r\\nТут ЕЦБ пишет, что развитие и разработки И...</td>\n",
       "      <td>0,00</td>\n",
       "    </tr>\n",
       "    <tr>\n",
       "      <th>31</th>\n",
       "      <td>ФРС боится «супербазовой» инфляции\\r\\nТекущее ...</td>\n",
       "      <td>0,00</td>\n",
       "    </tr>\n",
       "    <tr>\n",
       "      <th>32</th>\n",
       "      <td>Сегодня ещё БИС вот такую вещь выкатил. Они го...</td>\n",
       "      <td>1,00</td>\n",
       "    </tr>\n",
       "    <tr>\n",
       "      <th>33</th>\n",
       "      <td>Ещё одна вещь есть про влияние резких увеличен...</td>\n",
       "      <td>0,00</td>\n",
       "    </tr>\n",
       "    <tr>\n",
       "      <th>34</th>\n",
       "      <td>Вот такая ещё есть вещь – про влияние роста де...</td>\n",
       "      <td>0,00</td>\n",
       "    </tr>\n",
       "    <tr>\n",
       "      <th>35</th>\n",
       "      <td>Вот в этом докладе автор указывает, что миграц...</td>\n",
       "      <td>0,00</td>\n",
       "    </tr>\n",
       "    <tr>\n",
       "      <th>36</th>\n",
       "      <td>Президент конторы по анализу финрыков Yardeni ...</td>\n",
       "      <td>1,00</td>\n",
       "    </tr>\n",
       "    <tr>\n",
       "      <th>37</th>\n",
       "      <td>Тут ещё шеф-экономист МВФ сказала, что финансо...</td>\n",
       "      <td>0,00</td>\n",
       "    </tr>\n",
       "    <tr>\n",
       "      <th>38</th>\n",
       "      <td>МВФ пишут про введение электронной валюты цент...</td>\n",
       "      <td>1,00</td>\n",
       "    </tr>\n",
       "    <tr>\n",
       "      <th>39</th>\n",
       "      <td>Китайские застройщики предлагают гражданам сли...</td>\n",
       "      <td>0,00</td>\n",
       "    </tr>\n",
       "    <tr>\n",
       "      <th>40</th>\n",
       "      <td>Ещё гендир ВТО в выступлении сообщила, что реш...</td>\n",
       "      <td>0,00</td>\n",
       "    </tr>\n",
       "    <tr>\n",
       "      <th>41</th>\n",
       "      <td>Тут ещё BIS про спрос на госдолг пишет. Отмеча...</td>\n",
       "      <td>0,00</td>\n",
       "    </tr>\n",
       "    <tr>\n",
       "      <th>42</th>\n",
       "      <td>Продовольственная инфляция выше 5% наблюдается...</td>\n",
       "      <td>0,00</td>\n",
       "    </tr>\n",
       "    <tr>\n",
       "      <th>43</th>\n",
       "      <td>\\r\\nУ британского Института фискальных исследо...</td>\n",
       "      <td>0,00</td>\n",
       "    </tr>\n",
       "    <tr>\n",
       "      <th>44</th>\n",
       "      <td>Банк международных рассчетов совместно с Банко...</td>\n",
       "      <td>1,00</td>\n",
       "    </tr>\n",
       "    <tr>\n",
       "      <th>45</th>\n",
       "      <td>Пишут, что ситуация на рынке жилья стильно уве...</td>\n",
       "      <td>1,00</td>\n",
       "    </tr>\n",
       "  </tbody>\n",
       "</table>\n",
       "</div>"
      ],
      "text/plain": [
       "                                                offer accepted\n",
       "0   БИС выяснили, что современная инфляция, котора...     0,00\n",
       "1   немецкий ifo второй месяц подряд повысил свой ...     0,00\n",
       "2   В МВФ сообщили, что для достижения цели по зам...     0,00\n",
       "3   ЕЦБ предупредил о трех главных рисках для евро...     1,00\n",
       "4   \\nУ Европы тем временем внешняя торговля в про...     0,00\n",
       "5   В Британии ещё хотят урезать налог на наследст...     1,00\n",
       "6   Полиция Лондона сообщила, что с 1 апреля этого...     0,00\n",
       "7   \\nВ общем IIF посчитали, что глобальный долг (...     0,00\n",
       "8   Morgan Stanley назвал три сценария развития си...     1,00\n",
       "9   они ожидают, что ФРС будет понижать ставки уже...     1,00\n",
       "10  \"В США опасаются нового краха банков\". Всё в о...     0,00\n",
       "11   \"Коррупция убивает. Глобальные доказательства...     1,00\n",
       "12  В немецком IFO уверены, что экономика Германии...     0,00\n",
       "13  Миллиардер-инвестор, основатель Duquesne Capit...     0,00\n",
       "14  Рост цен в Еврозоне, согласно предварительным ...     1,00\n",
       "15  Инвестиции в развивающиеся рынки сокращаются в...     1,00\n",
       "16  Вчера вышел комбинированный доклад 10 междунар...     0,00\n",
       "17  \\r\\nТам ещё главный инвестстратег из Bank of A...     0,00\n",
       "18  МВФ проанализировали меры по поддержке экономи...     0,00\n",
       "19  Банк Англии увидел риски в распространяющемся ...     0,00\n",
       "20  Рэй Далио, основатель и бывший управляющий кру...     1,00\n",
       "21  Рейтер сегодня ещё написал, что разница в дохо...     1,00\n",
       "22  Экономика Нидерландов вступила в рецессию, пос...     0,00\n",
       "23  Эксперты ЕЦБ выдвинули 4 сценария фрагментации...     1,00\n",
       "24  В июле в Китае впервые за год была зафиксирова...     1,00\n",
       "25  Всемирный банк включил Россию в топ-5 экономик...     1,00\n",
       "26  ам ОЭСР пишет, что у ее стран инфляция упала д...     0,00\n",
       "27  Тут из Мудиса  deputy chief economist рассказа...     0,00\n",
       "28  Агентство Fitch приняло решение понизить долго...     1,00\n",
       "29  Тут вчера ОЭСР выпустил бумагу, по которой биз...     1,00\n",
       "30  \\r\\nТут ЕЦБ пишет, что развитие и разработки И...     0,00\n",
       "31  ФРС боится «супербазовой» инфляции\\r\\nТекущее ...     0,00\n",
       "32  Сегодня ещё БИС вот такую вещь выкатил. Они го...     1,00\n",
       "33  Ещё одна вещь есть про влияние резких увеличен...     0,00\n",
       "34  Вот такая ещё есть вещь – про влияние роста де...     0,00\n",
       "35  Вот в этом докладе автор указывает, что миграц...     0,00\n",
       "36  Президент конторы по анализу финрыков Yardeni ...     1,00\n",
       "37  Тут ещё шеф-экономист МВФ сказала, что финансо...     0,00\n",
       "38  МВФ пишут про введение электронной валюты цент...     1,00\n",
       "39  Китайские застройщики предлагают гражданам сли...     0,00\n",
       "40  Ещё гендир ВТО в выступлении сообщила, что реш...     0,00\n",
       "41  Тут ещё BIS про спрос на госдолг пишет. Отмеча...     0,00\n",
       "42  Продовольственная инфляция выше 5% наблюдается...     0,00\n",
       "43  \\r\\nУ британского Института фискальных исследо...     0,00\n",
       "44  Банк международных рассчетов совместно с Банко...     1,00\n",
       "45  Пишут, что ситуация на рынке жилья стильно уве...     1,00"
      ]
     },
     "execution_count": 43,
     "metadata": {},
     "output_type": "execute_result"
    }
   ],
   "source": [
    "data = pd.read_csv('topic_offers.csv')\n",
    "data"
   ]
  },
  {
   "cell_type": "code",
   "execution_count": 44,
   "id": "2b99d023",
   "metadata": {},
   "outputs": [
    {
     "data": {
      "text/plain": [
       "0,00    0.586957\n",
       "1,00    0.413043\n",
       "Name: accepted, dtype: float64"
      ]
     },
     "execution_count": 44,
     "metadata": {},
     "output_type": "execute_result"
    }
   ],
   "source": [
    "data.accepted.value_counts(normalize=True)"
   ]
  },
  {
   "cell_type": "code",
   "execution_count": null,
   "id": "0cfe0616",
   "metadata": {},
   "outputs": [],
   "source": []
  }
 ],
 "metadata": {
  "kernelspec": {
   "display_name": "Python 3 (ipykernel)",
   "language": "python",
   "name": "python3"
  },
  "language_info": {
   "codemirror_mode": {
    "name": "ipython",
    "version": 3
   },
   "file_extension": ".py",
   "mimetype": "text/x-python",
   "name": "python",
   "nbconvert_exporter": "python",
   "pygments_lexer": "ipython3",
   "version": "3.11.4"
  }
 },
 "nbformat": 4,
 "nbformat_minor": 5
}
