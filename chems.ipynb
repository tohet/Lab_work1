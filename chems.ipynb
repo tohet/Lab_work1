{
 "cells": [
  {
   "cell_type": "markdown",
   "id": "a44a064a",
   "metadata": {},
   "source": [
    "ТЗ:\n",
    "\n",
    "Сотрудники института биоинформатики хотят восстановить первичную структуру белка, для чего требуется объединить его (частично пересекающиеся) фрагменты. Требуется написать программу, которая хранит белковые последовательности (в виде списков аминокислот) и умеет их объединять, если аминокислоты в конце одной последовательности совпадут с аминокислотами в начале другой.\n",
    "\n",
    "1.1.\tКласс трансляции протеиногенной аминокислоты, умеющий синтезировать ее по хранимому коду из последовательно поступающих нуклеотидов, закодированных при помощи однобуквенных обозначений.\n",
    "\n",
    "1.2.\tКласс белковой последовательности, умеющий синтезировать последовательность из нуклеотидов и других аминокислот. \n",
    "\n",
    "1.3.\tБелок (последовательность аминокислот); операция сложения, возвращающая результат сложения (с пересечением) двух белков\n"
   ]
  },
  {
   "cell_type": "code",
   "execution_count": 2,
   "id": "d04571a0",
   "metadata": {},
   "outputs": [],
   "source": [
    "from dataclasses import dataclass"
   ]
  },
  {
   "cell_type": "markdown",
   "id": "fd52387d",
   "metadata": {},
   "source": [
    "# Нуклеотиды"
   ]
  },
  {
   "cell_type": "markdown",
   "id": "33e9a788",
   "metadata": {},
   "source": [
    "В протеиногенных аминокислотах участвуют 4 главных нуклеотида. Все они обозначаются одной буквой и имеют какое-то название.\n",
    "Отразим это в следующем словаре:"
   ]
  },
  {
   "cell_type": "code",
   "execution_count": 3,
   "id": "4db0df9f",
   "metadata": {},
   "outputs": [],
   "source": [
    "nucleotide_dict = {\n",
    "    'A': 'Аденин',\n",
    "    'G': 'Гуанин',\n",
    "    'C': 'Цитозин',\n",
    "    'U': 'Урацил'\n",
    "}"
   ]
  },
  {
   "cell_type": "markdown",
   "id": "1df42804",
   "metadata": {},
   "source": [
    "Теперь создаём класс нуклеотида. \n",
    "Пока он будет хранить только своё буквенное обозначение и название. Также он будет уметь выводить обе эти позиции в методе display(). Возможность знать, что обозначает та или иная буква, коллегам точно не помешает. \n",
    "\n",
    "*Если коллегам потребуется добавить, например, молекулярную структуру нуклеотида, мы создадим соответсвующий класс, и при инициализации нуклеотид будет добавлять себе его переменную. Но пока ограничимся буквой и названием.*"
   ]
  },
  {
   "cell_type": "code",
   "execution_count": 4,
   "id": "abdcafe4",
   "metadata": {},
   "outputs": [],
   "source": [
    "class nucleotide:\n",
    "    def __init__(self, code: str): # Объект инициализируется по букве нуклеотида\n",
    "            \n",
    "            self.code = code\n",
    "            self.name = ''\n",
    "            \n",
    "            try:\n",
    "                self.name = nucleotide_dict[code] # Конструктор ищет название нуклеотида в словаре по введенной букве\n",
    "            except:\n",
    "                raise Exception('Non-existent nucleotide code: ' + code)\n",
    "                # Если пользователь дал конструктору что-то кроме буквы нуклеотида, мы останавливаем его\n",
    "            \n",
    "            self.display_str = self.code + ' | ' + self.name # В эту строчку нуклеотид записывает всё, что он знает о себе\n",
    "    \n",
    "    def display(self): # Этим методом он рассказывает всё, что он знает о себе\n",
    "        print(self.display_str)\n",
    "               "
   ]
  },
  {
   "cell_type": "markdown",
   "id": "abd80dd5",
   "metadata": {},
   "source": [
    "Попробуем создать два нуклеотида и вывести информацию о них:"
   ]
  },
  {
   "cell_type": "code",
   "execution_count": 5,
   "id": "3f4ca853",
   "metadata": {},
   "outputs": [
    {
     "name": "stdout",
     "output_type": "stream",
     "text": [
      "A | Аденин\n",
      "G | Гуанин\n"
     ]
    }
   ],
   "source": [
    "A = nucleotide(\"A\")\n",
    "A.display()\n",
    "\n",
    "G = nucleotide(\"G\")\n",
    "G.display()"
   ]
  },
  {
   "cell_type": "markdown",
   "id": "cfc7ee68",
   "metadata": {},
   "source": [
    "Теперь попробуем всё сломать:"
   ]
  },
  {
   "cell_type": "code",
   "execution_count": 9,
   "id": "7dcff78c",
   "metadata": {
    "scrolled": false
   },
   "outputs": [
    {
     "ename": "Exception",
     "evalue": "Non-existent nucleotide code: Banana",
     "output_type": "error",
     "traceback": [
      "\u001b[1;31m---------------------------------------------------------------------------\u001b[0m",
      "\u001b[1;31mKeyError\u001b[0m                                  Traceback (most recent call last)",
      "Cell \u001b[1;32mIn[4], line 8\u001b[0m, in \u001b[0;36mnucleotide.__init__\u001b[1;34m(self, code)\u001b[0m\n\u001b[0;32m      7\u001b[0m \u001b[38;5;28;01mtry\u001b[39;00m:\n\u001b[1;32m----> 8\u001b[0m     \u001b[38;5;28mself\u001b[39m\u001b[38;5;241m.\u001b[39mname \u001b[38;5;241m=\u001b[39m nucleotide_dict[code] \u001b[38;5;66;03m# Конструктор ищет название нуклеотида в словаре по введенной букве\u001b[39;00m\n\u001b[0;32m      9\u001b[0m \u001b[38;5;28;01mexcept\u001b[39;00m:\n",
      "\u001b[1;31mKeyError\u001b[0m: 'Banana'",
      "\nDuring handling of the above exception, another exception occurred:\n",
      "\u001b[1;31mException\u001b[0m                                 Traceback (most recent call last)",
      "Cell \u001b[1;32mIn[9], line 1\u001b[0m\n\u001b[1;32m----> 1\u001b[0m banana \u001b[38;5;241m=\u001b[39m nucleotide(\u001b[38;5;124m'\u001b[39m\u001b[38;5;124mBanana\u001b[39m\u001b[38;5;124m'\u001b[39m) \u001b[38;5;66;03m# Попытаемся запихать в конструктор банан\u001b[39;00m\n\u001b[0;32m      2\u001b[0m banana\u001b[38;5;241m.\u001b[39mdisplay()\n",
      "Cell \u001b[1;32mIn[4], line 10\u001b[0m, in \u001b[0;36mnucleotide.__init__\u001b[1;34m(self, code)\u001b[0m\n\u001b[0;32m      8\u001b[0m     \u001b[38;5;28mself\u001b[39m\u001b[38;5;241m.\u001b[39mname \u001b[38;5;241m=\u001b[39m nucleotide_dict[code] \u001b[38;5;66;03m# Конструктор ищет название нуклеотида в словаре по введенной букве\u001b[39;00m\n\u001b[0;32m      9\u001b[0m \u001b[38;5;28;01mexcept\u001b[39;00m:\n\u001b[1;32m---> 10\u001b[0m     \u001b[38;5;28;01mraise\u001b[39;00m \u001b[38;5;167;01mException\u001b[39;00m(\u001b[38;5;124m'\u001b[39m\u001b[38;5;124mNon-existent nucleotide code: \u001b[39m\u001b[38;5;124m'\u001b[39m \u001b[38;5;241m+\u001b[39m code)\n\u001b[0;32m     11\u001b[0m     \u001b[38;5;66;03m# Если пользователь дал конструктору что-то кроме буквы нуклеотида, мы останавливаем его\u001b[39;00m\n\u001b[0;32m     13\u001b[0m \u001b[38;5;28mself\u001b[39m\u001b[38;5;241m.\u001b[39mdisplay_str \u001b[38;5;241m=\u001b[39m \u001b[38;5;28mself\u001b[39m\u001b[38;5;241m.\u001b[39mcode \u001b[38;5;241m+\u001b[39m \u001b[38;5;124m'\u001b[39m\u001b[38;5;124m | \u001b[39m\u001b[38;5;124m'\u001b[39m \u001b[38;5;241m+\u001b[39m \u001b[38;5;28mself\u001b[39m\u001b[38;5;241m.\u001b[39mname\n",
      "\u001b[1;31mException\u001b[0m: Non-existent nucleotide code: Banana"
     ]
    }
   ],
   "source": [
    "banana = nucleotide('Banana') # Попытаемся запихать в конструктор банан\n",
    "banana.display()"
   ]
  },
  {
   "cell_type": "markdown",
   "id": "818bc9e1",
   "metadata": {},
   "source": [
    "# Аминокислоты"
   ]
  },
  {
   "cell_type": "markdown",
   "id": "1c915f12",
   "metadata": {},
   "source": [
    "Помимо названия и буквенного обозначения, каждая протеиногенная аминокислота также имеет от одной до шести комбинаций нуклеотидов, в которых она может быть выражена. Отразим это в специальном списке аминокислот, каждый элемнт в котором будет хранить имя, возможные комбинации и букву. "
   ]
  },
  {
   "cell_type": "code",
   "execution_count": 10,
   "id": "651261e0",
   "metadata": {},
   "outputs": [],
   "source": [
    "@dataclass() # Класс для элементов списка\n",
    "class am_ac_entry():\n",
    "    name: str\n",
    "    nucs: [str]\n",
    "    letter: str\n",
    "        \n",
    "        \n",
    "#Взяты отсюда: https://ru.wikipedia.org/wiki/Аминокислоты#Протеиногенные_аминокислоты\n",
    "amino_acid_list = [\n",
    "    am_ac_entry('Фенилаланин', ['UUU','UUC'], 'F'),\n",
    "    am_ac_entry('Лейцин', ['UUA', 'UUG', 'CUU', 'CUC', 'CUA', 'CUG'], 'L'),\n",
    "    am_ac_entry('Цистеин', ['UGU', 'UGC'], 'C'),\n",
    "    am_ac_entry('Триптофан', ['UGG'], 'W'),\n",
    "    am_ac_entry('Серин', ['UCU', 'UCC', 'UCA', 'UCG', 'AGU', 'AGC'], 'S'),\n",
    "    am_ac_entry('Тирозин', ['UAU', 'UAC'], 'Y'),\n",
    "    am_ac_entry('Валин', ['GUU', 'GUC', 'GUA', 'GUG'], 'V'),\n",
    "    am_ac_entry('Глицин', ['GGU', 'GGC', 'GGA', 'GGG'], 'G'),\n",
    "    am_ac_entry('Аланин', ['GCU', 'GCC', 'GCA', 'GCG'], 'A'),\n",
    "    am_ac_entry('Аспарагиновая кислота', ['GAU', 'GAC'], 'D'),\n",
    "    am_ac_entry('Глутаминовая кислота', ['GAA', 'GAG'], 'E'),\n",
    "    am_ac_entry('Аргинин', ['CGU', 'CGC', 'CGA', 'CGG', 'AGA', 'AGG'], 'R'),\n",
    "    am_ac_entry('Пролин', ['CCU', 'CCC', 'CCA', 'CCG'], 'P'),\n",
    "    am_ac_entry('Гистидин', ['CAU', 'CAC'], 'H'),\n",
    "    am_ac_entry('Глутамин', ['CAA', 'CAG'], 'Q'),\n",
    "    am_ac_entry('Изолейцин', ['AUU', 'AUC', 'AUA'], 'I'),\n",
    "    am_ac_entry('Метионин', ['AUG'], 'M'),\n",
    "    am_ac_entry('Треонин', ['ACU', 'ACC', 'ACA', 'ACG'], 'T'),\n",
    "    am_ac_entry('Аспарагин', ['AAU', 'AAC'], 'N'),\n",
    "    am_ac_entry('Лизин', ['AAA', 'AAG'], 'K'),\n",
    "    \n",
    "]"
   ]
  },
  {
   "cell_type": "markdown",
   "id": "02a98e88",
   "metadata": {},
   "source": [
    "Создадим функцию, которая будет возвращать конструктору свойства аминокислоты из списка.\n",
    "По умолчанию на вход она принимает три символа (str), находит соответствие с комбинациями нуклеотидов и возвращет название кислоты и её буквенное обозначение, если такое есть в списке.\n",
    "\n",
    "Также функция может искать название и комбинацию нуклеотидов по буквенному обозначению кислоты. В таком случае by_latter необходмо перевести в положение True."
   ]
  },
  {
   "cell_type": "code",
   "execution_count": 11,
   "id": "8db2eb66",
   "metadata": {},
   "outputs": [],
   "source": [
    "def amino_name_define(nucl_combo: str, by_latter = False):\n",
    "    if by_latter:\n",
    "        for entry in amino_acid_list:\n",
    "            if entry.letter == nucl_combo:\n",
    "                return entry.name, entry.nucs[0], entry.letter\n",
    "            # При поиске по букве кислоты возвращается первая возможная комбинация нуклеотидов\n",
    "    else:\n",
    "        for entry in amino_acid_list:\n",
    "            for nucls in entry.nucs:\n",
    "                if nucls == nucl_combo:\n",
    "                    return entry.name, entry.letter"
   ]
  },
  {
   "cell_type": "markdown",
   "id": "669f586d",
   "metadata": {},
   "source": [
    "Теперь создаём класс аминокислоты. \n",
    "Он будет хранить в себе список входящих в кислоту нуклеотидов, её название и буквенное обозначенине. "
   ]
  },
  {
   "cell_type": "code",
   "execution_count": 12,
   "id": "b42bd16c",
   "metadata": {},
   "outputs": [],
   "source": [
    "class amino_acid(nucleotide): # От нуклеотида мы наследуем метод display()\n",
    "    \n",
    "    def __init__(self, nucleotides: [nucleotide] = [], letter: str = None):\n",
    "        \n",
    "        self.nulceotides = []\n",
    "        self.name = ''\n",
    "        self.letter = ''\n",
    "        \n",
    "        \n",
    "        # По умолчанию __init__ создает аминокислоту на основе списка переданных нуклеотидов\n",
    "        if len(nucleotides) > 1:\n",
    "\n",
    "            self.nucleotides = nucleotides\n",
    "            self.code = '' #код комбинации нуклеотидов (AAA, CGU и т.д.) в виде строки\n",
    "            self.code = self.code.join([self.code + nucleo.code for nucleo in nucleotides])\n",
    "            \n",
    "            # Если число нуклеотидов не соответсвует 3 то amino_name_define не находит кислоту, вызывается исключение \n",
    "            try:\n",
    "                self.name, self.letter = amino_name_define(self.code)\n",
    "            except:\n",
    "                raise Exception('An error occured while trying to initialize the amino acid! Unacceptable nucleotides input: ' + self.code)\n",
    "                \n",
    "        # Если пользователь не хочет сначала инициализировать каждый нуклеотид, чтобы потом собрать из них кислоту,\n",
    "        # он может сразу создать кислоту при помощи её обозначения в одну букву.\n",
    "        # Например, если мы хотим создать аргинин, мы можем сделать это так: \n",
    "        # arginin = amino_acid([], 'R')\n",
    "        # В таком случе будет взята первая возможная комбинация нуклеотидов из amino_acid_list - то есть CGU\n",
    "        \n",
    "        else:\n",
    "            # Тогда программа проверяет, есть ли искомая буква в списке аминокислот\n",
    "            try:\n",
    "                self.name, self.code, self.letter = amino_name_define(letter, by_latter = True)\n",
    "                self.nucleotides = [nucleotide(letter) for letter in self.code]\n",
    "            # И бросает исключение, если не находит\n",
    "            except:\n",
    "                raise Exception('An error occured while trying to initialize the amino acid! Unacceptable letter input: ' + letter)\n",
    "               \n",
    "        self.display_str = self.code + ' | ' + self.letter +' | ' + self.name # это используется функцией display() от нуклеотида\n",
    "           \n"
   ]
  },
  {
   "cell_type": "markdown",
   "id": "ef8b8cbf",
   "metadata": {},
   "source": [
    "Попробуем создать аминокислоты всеми доступными способами:"
   ]
  },
  {
   "cell_type": "code",
   "execution_count": 13,
   "id": "a31648d5",
   "metadata": {
    "scrolled": true
   },
   "outputs": [
    {
     "name": "stdout",
     "output_type": "stream",
     "text": [
      "AGG | R | Аргинин\n",
      "ACU | T | Треонин\n",
      "UGG | W | Триптофан\n"
     ]
    }
   ],
   "source": [
    "# Из существующих нуклеотидов\n",
    "acid = amino_acid([A,G,G])\n",
    "acid.display()\n",
    "\n",
    "# С созданием нуклеотидов прямо при инициализации\n",
    "acid2 = amino_acid([A, nucleotide('C'), nucleotide('U')])\n",
    "acid2.display()\n",
    "\n",
    "# При помощи буквенного обозначение кислоты\n",
    "acid3 = amino_acid([],'W')\n",
    "acid3.display()"
   ]
  },
  {
   "cell_type": "markdown",
   "id": "66e3446b",
   "metadata": {},
   "source": [
    "Теперь опять попробуем дать неправлильный ввод:"
   ]
  },
  {
   "cell_type": "code",
   "execution_count": 14,
   "id": "981de41b",
   "metadata": {
    "scrolled": false
   },
   "outputs": [
    {
     "ename": "Exception",
     "evalue": "An error occured while trying to initialize the amino acid! Unacceptable nucleotides input: AAAAGGGG",
     "output_type": "error",
     "traceback": [
      "\u001b[1;31m---------------------------------------------------------------------------\u001b[0m",
      "\u001b[1;31mTypeError\u001b[0m                                 Traceback (most recent call last)",
      "Cell \u001b[1;32mIn[12], line 19\u001b[0m, in \u001b[0;36mamino_acid.__init__\u001b[1;34m(self, nucleotides, letter)\u001b[0m\n\u001b[0;32m     18\u001b[0m \u001b[38;5;28;01mtry\u001b[39;00m:\n\u001b[1;32m---> 19\u001b[0m     \u001b[38;5;28mself\u001b[39m\u001b[38;5;241m.\u001b[39mname, \u001b[38;5;28mself\u001b[39m\u001b[38;5;241m.\u001b[39mletter \u001b[38;5;241m=\u001b[39m amino_name_define(\u001b[38;5;28mself\u001b[39m\u001b[38;5;241m.\u001b[39mcode)\n\u001b[0;32m     20\u001b[0m \u001b[38;5;28;01mexcept\u001b[39;00m:\n",
      "\u001b[1;31mTypeError\u001b[0m: cannot unpack non-iterable NoneType object",
      "\nDuring handling of the above exception, another exception occurred:\n",
      "\u001b[1;31mException\u001b[0m                                 Traceback (most recent call last)",
      "Cell \u001b[1;32mIn[14], line 2\u001b[0m\n\u001b[0;32m      1\u001b[0m \u001b[38;5;66;03m# Число нуклеотидов больше 3\u001b[39;00m\n\u001b[1;32m----> 2\u001b[0m acid_error3 \u001b[38;5;241m=\u001b[39m amino_acid([A,A,A,A,G,G,G,G])\n",
      "Cell \u001b[1;32mIn[12], line 21\u001b[0m, in \u001b[0;36mamino_acid.__init__\u001b[1;34m(self, nucleotides, letter)\u001b[0m\n\u001b[0;32m     19\u001b[0m         \u001b[38;5;28mself\u001b[39m\u001b[38;5;241m.\u001b[39mname, \u001b[38;5;28mself\u001b[39m\u001b[38;5;241m.\u001b[39mletter \u001b[38;5;241m=\u001b[39m amino_name_define(\u001b[38;5;28mself\u001b[39m\u001b[38;5;241m.\u001b[39mcode)\n\u001b[0;32m     20\u001b[0m     \u001b[38;5;28;01mexcept\u001b[39;00m:\n\u001b[1;32m---> 21\u001b[0m         \u001b[38;5;28;01mraise\u001b[39;00m \u001b[38;5;167;01mException\u001b[39;00m(\u001b[38;5;124m'\u001b[39m\u001b[38;5;124mAn error occured while trying to initialize the amino acid! Unacceptable nucleotides input: \u001b[39m\u001b[38;5;124m'\u001b[39m \u001b[38;5;241m+\u001b[39m \u001b[38;5;28mself\u001b[39m\u001b[38;5;241m.\u001b[39mcode)\n\u001b[0;32m     23\u001b[0m \u001b[38;5;66;03m# Если пользователь не хочет сначала инициализировать каждый нуклеотид, чтобы потом собрать из них кислоту,\u001b[39;00m\n\u001b[0;32m     24\u001b[0m \u001b[38;5;66;03m# он может сразу создать кислоту при помощи её обозначения в одну букву.\u001b[39;00m\n\u001b[0;32m     25\u001b[0m \u001b[38;5;66;03m# Например, если мы хотим создать аргинин, мы можем сделать это так: \u001b[39;00m\n\u001b[1;32m   (...)\u001b[0m\n\u001b[0;32m     29\u001b[0m \u001b[38;5;28;01melse\u001b[39;00m:\n\u001b[0;32m     30\u001b[0m     \u001b[38;5;66;03m# Тогда программа проверяет, есть ли искомая буква в списке аминокислот\u001b[39;00m\n\u001b[0;32m     31\u001b[0m     \u001b[38;5;28;01mtry\u001b[39;00m:\n",
      "\u001b[1;31mException\u001b[0m: An error occured while trying to initialize the amino acid! Unacceptable nucleotides input: AAAAGGGG"
     ]
    }
   ],
   "source": [
    "# Число нуклеотидов больше 3\n",
    "acid_error3 = amino_acid([A,A,A,A,G,G,G,G])"
   ]
  },
  {
   "cell_type": "code",
   "execution_count": 15,
   "id": "78f5948e",
   "metadata": {},
   "outputs": [
    {
     "ename": "Exception",
     "evalue": "An error occured while trying to initialize the amino acid! Unacceptable letter input: banana acid",
     "output_type": "error",
     "traceback": [
      "\u001b[1;31m---------------------------------------------------------------------------\u001b[0m",
      "\u001b[1;31mTypeError\u001b[0m                                 Traceback (most recent call last)",
      "Cell \u001b[1;32mIn[12], line 32\u001b[0m, in \u001b[0;36mamino_acid.__init__\u001b[1;34m(self, nucleotides, letter)\u001b[0m\n\u001b[0;32m     31\u001b[0m \u001b[38;5;28;01mtry\u001b[39;00m:\n\u001b[1;32m---> 32\u001b[0m     \u001b[38;5;28mself\u001b[39m\u001b[38;5;241m.\u001b[39mname, \u001b[38;5;28mself\u001b[39m\u001b[38;5;241m.\u001b[39mcode, \u001b[38;5;28mself\u001b[39m\u001b[38;5;241m.\u001b[39mletter \u001b[38;5;241m=\u001b[39m amino_name_define(letter, by_latter \u001b[38;5;241m=\u001b[39m \u001b[38;5;28;01mTrue\u001b[39;00m)\n\u001b[0;32m     33\u001b[0m     \u001b[38;5;28mself\u001b[39m\u001b[38;5;241m.\u001b[39mnucleotides \u001b[38;5;241m=\u001b[39m [nucleotide(letter) \u001b[38;5;28;01mfor\u001b[39;00m letter \u001b[38;5;129;01min\u001b[39;00m \u001b[38;5;28mself\u001b[39m\u001b[38;5;241m.\u001b[39mcode]\n",
      "\u001b[1;31mTypeError\u001b[0m: cannot unpack non-iterable NoneType object",
      "\nDuring handling of the above exception, another exception occurred:\n",
      "\u001b[1;31mException\u001b[0m                                 Traceback (most recent call last)",
      "Cell \u001b[1;32mIn[15], line 2\u001b[0m\n\u001b[0;32m      1\u001b[0m \u001b[38;5;66;03m# Попросим у конструктора банановую кислоту\u001b[39;00m\n\u001b[1;32m----> 2\u001b[0m acid_error2 \u001b[38;5;241m=\u001b[39m amino_acid([], \u001b[38;5;124m'\u001b[39m\u001b[38;5;124mbanana acid\u001b[39m\u001b[38;5;124m'\u001b[39m)\n",
      "Cell \u001b[1;32mIn[12], line 36\u001b[0m, in \u001b[0;36mamino_acid.__init__\u001b[1;34m(self, nucleotides, letter)\u001b[0m\n\u001b[0;32m     34\u001b[0m     \u001b[38;5;66;03m# И бросает исключение, если не находит\u001b[39;00m\n\u001b[0;32m     35\u001b[0m     \u001b[38;5;28;01mexcept\u001b[39;00m:\n\u001b[1;32m---> 36\u001b[0m         \u001b[38;5;28;01mraise\u001b[39;00m \u001b[38;5;167;01mException\u001b[39;00m(\u001b[38;5;124m'\u001b[39m\u001b[38;5;124mAn error occured while trying to initialize the amino acid! Unacceptable letter input: \u001b[39m\u001b[38;5;124m'\u001b[39m \u001b[38;5;241m+\u001b[39m letter)\n\u001b[0;32m     38\u001b[0m \u001b[38;5;28mself\u001b[39m\u001b[38;5;241m.\u001b[39mdisplay_str \u001b[38;5;241m=\u001b[39m \u001b[38;5;28mself\u001b[39m\u001b[38;5;241m.\u001b[39mcode \u001b[38;5;241m+\u001b[39m \u001b[38;5;124m'\u001b[39m\u001b[38;5;124m | \u001b[39m\u001b[38;5;124m'\u001b[39m \u001b[38;5;241m+\u001b[39m \u001b[38;5;28mself\u001b[39m\u001b[38;5;241m.\u001b[39mletter \u001b[38;5;241m+\u001b[39m\u001b[38;5;124m'\u001b[39m\u001b[38;5;124m | \u001b[39m\u001b[38;5;124m'\u001b[39m \u001b[38;5;241m+\u001b[39m \u001b[38;5;28mself\u001b[39m\u001b[38;5;241m.\u001b[39mname\n",
      "\u001b[1;31mException\u001b[0m: An error occured while trying to initialize the amino acid! Unacceptable letter input: banana acid"
     ]
    }
   ],
   "source": [
    "# Попросим у конструктора банановую кислоту\n",
    "acid_error2 = amino_acid([], 'banana acid')"
   ]
  },
  {
   "cell_type": "markdown",
   "id": "4125ee6b",
   "metadata": {},
   "source": [
    "# Белковая последовательность"
   ]
  },
  {
   "cell_type": "markdown",
   "id": "84e82f09",
   "metadata": {},
   "source": [
    "Класс белковой последовательности хранит в себе список аминокислот, а также список их обозначений в одну букву (в виде строки). \n",
    "Он создаёт список аминокислот при инициализации. Это можно сделать при помощи отдельных нуклеотидов, уже готовых аминокислот или просто при помощи списка буквенных обозначений кислот.\n",
    "\n",
    "Также можно комбинировать подходы, например, мы даём конструктору набор нуклеотидов AGG (мы не помним, что это за аминокислота) и просим его присоединить к нему кислоты QHF. Он узнает в нуклеотидах аргинин (R) и создаёт нам последовательность RQHF."
   ]
  },
  {
   "cell_type": "code",
   "execution_count": 19,
   "id": "3ccbcd29",
   "metadata": {},
   "outputs": [
    {
     "name": "stdout",
     "output_type": "stream",
     "text": [
      "RQHF\n"
     ]
    }
   ],
   "source": [
    "ch = protein_chain([A,G,G],[],'QHF')\n",
    "ch.display()"
   ]
  },
  {
   "cell_type": "markdown",
   "id": "d01fc167",
   "metadata": {},
   "source": [
    "Также класс белковой последовательности получает метод full_display(), который показывает не только список кислот в последовательности, но и расписывает каждую кислоту с названием, буквенным обозначением и списком нуклеотидов."
   ]
  },
  {
   "cell_type": "code",
   "execution_count": 31,
   "id": "158c9945",
   "metadata": {},
   "outputs": [],
   "source": [
    "class protein_chain(nucleotide): # Снова берём метод display()\n",
    "    \n",
    "    def __init__(self, nucs: [nucleotide] = [], am_acids: [amino_acid] = [],  init_str: str = ''):\n",
    "        \n",
    "        self.prot_chain = []\n",
    "        str_prot_chain = []\n",
    "        self.prot_chain_code = ''\n",
    "        \n",
    "        if init_str != '': \n",
    "            for acid_letter in init_str:\n",
    "                str_prot_chain.append(amino_acid([], acid_letter)) # Создаём из строки букв список аминокислот\n",
    "        \n",
    "        # Проверяется количество переданных в конструктор нуклеотидов\n",
    "        # Протеиногенные аминокислоты состоят из 3 нуклеотидов, поэтому если их общее число не кратно 3, \n",
    "        # Цепь не будет создана    \n",
    "        if len(nucs) % 3 == 0:\n",
    "            self.nuc_triplets = []\n",
    "            i = 0\n",
    "            j = 0\n",
    "            max_i = len(nucs) / 3\n",
    "            while (i < max_i):\n",
    "                nuc_triplet = nucs[j:j+3] # Создаём тройки из нуклеотидов\n",
    "                self.nuc_triplets.append(nuc_triplet)\n",
    "                j += 3\n",
    "                i += 1\n",
    "            self.new_acids = []    \n",
    "            for triplet in self.nuc_triplets:\n",
    "                self.new_acids.append(amino_acid(triplet)) # Превращаем тройки в кислоты и добавляем к списку\n",
    "            self.prot_chain = self.new_acids + am_acids + str_prot_chain\n",
    "            \n",
    "            # Создаем строку буквенных обозначений кислот\n",
    "            self.prot_chain_code = self.prot_chain_code.join([self.prot_chain_code + acid.letter for acid in self.prot_chain])\n",
    "\n",
    "            \n",
    "            self.display_str = self.prot_chain_code\n",
    "        else:\n",
    "            raise Exception('Unacceptable number of nucleotides. Protein chain was not creatred. Number of nucleotides must be divisible by 3.')\n",
    "    \n",
    "    #Обычый display() показывает только название цепочки\n",
    "    def full_display(self): #Эта функция показывает название цепочки, а также названия всех аминокислот, входящих в неё\n",
    "        self.display()\n",
    "        \n",
    "        for acid in self.prot_chain:\n",
    "            acid.display() \n",
    "            "
   ]
  },
  {
   "cell_type": "markdown",
   "id": "0f881264",
   "metadata": {},
   "source": [
    "Попробуем создать белковые последовательности."
   ]
  },
  {
   "cell_type": "code",
   "execution_count": 32,
   "id": "ee08dc1c",
   "metadata": {},
   "outputs": [
    {
     "name": "stdout",
     "output_type": "stream",
     "text": [
      "KGKRTW\n",
      "------\n",
      "KGKRTW\n",
      "AAA | K | Лизин\n",
      "GGG | G | Глицин\n",
      "AAG | K | Лизин\n",
      "AGG | R | Аргинин\n",
      "ACU | T | Треонин\n",
      "UGG | W | Триптофан\n"
     ]
    }
   ],
   "source": [
    "# Нуклеотидами и кислотами + сравниваем методы display() и full_display()\n",
    "chain = protein_chain([A,A,A,G,G,G,A,A,G],[acid, acid2, acid3])\n",
    "chain.display()\n",
    "print('------')\n",
    "chain.full_display() "
   ]
  },
  {
   "cell_type": "code",
   "execution_count": 33,
   "id": "ad67e58a",
   "metadata": {
    "scrolled": true
   },
   "outputs": [
    {
     "name": "stdout",
     "output_type": "stream",
     "text": [
      "TKFGLN\n",
      "ACU | T | Треонин\n",
      "AAA | K | Лизин\n",
      "UUU | F | Фенилаланин\n",
      "GGC | G | Глицин\n",
      "CUC | L | Лейцин\n",
      "AAC | N | Аспарагин\n"
     ]
    }
   ],
   "source": [
    "# Только нуклеотидами\n",
    "U = nucleotide('U')\n",
    "C = nucleotide('C')\n",
    "\n",
    "chain2 = protein_chain([A,C,U,A,A,A,U,U,U,G,G,C,C,U,C,A,A,C],[])\n",
    "chain2.full_display()"
   ]
  },
  {
   "cell_type": "code",
   "execution_count": 34,
   "id": "90366f5a",
   "metadata": {},
   "outputs": [
    {
     "name": "stdout",
     "output_type": "stream",
     "text": [
      "ITQRYWI\n",
      "AUU | I | Изолейцин\n",
      "ACU | T | Треонин\n",
      "CAA | Q | Глутамин\n",
      "AGG | R | Аргинин\n",
      "UAU | Y | Тирозин\n",
      "UGG | W | Триптофан\n",
      "AUU | I | Изолейцин\n"
     ]
    }
   ],
   "source": [
    "# Только аминокислотами\n",
    "acid4 = amino_acid([],'I')\n",
    "acid5 = amino_acid([],'Q')\n",
    "acid6 = amino_acid([], 'Y')\n",
    "\n",
    "chain3 = protein_chain([],[acid4, acid2, acid5, acid, acid6, acid3, acid4])\n",
    "chain3.full_display()"
   ]
  },
  {
   "cell_type": "code",
   "execution_count": 38,
   "id": "6cdea7ed",
   "metadata": {
    "scrolled": true
   },
   "outputs": [
    {
     "name": "stdout",
     "output_type": "stream",
     "text": [
      "DERP\n",
      "GAU | D | Аспарагиновая кислота\n",
      "GAA | E | Глутаминовая кислота\n",
      "CGU | R | Аргинин\n",
      "CCU | P | Пролин\n"
     ]
    }
   ],
   "source": [
    "# Только при помощи буквенных обозначений\n",
    "acid_by_letters = protein_chain([],[], 'DERP')\n",
    "acid_by_letters.full_display()"
   ]
  },
  {
   "cell_type": "code",
   "execution_count": 39,
   "id": "0ef47309",
   "metadata": {},
   "outputs": [
    {
     "name": "stdout",
     "output_type": "stream",
     "text": [
      "DPFIQYFFRPIQ\n",
      "GAU | D | Аспарагиновая кислота\n",
      "CCA | P | Пролин\n",
      "UUC | F | Фенилаланин\n",
      "AUU | I | Изолейцин\n",
      "CAA | Q | Глутамин\n",
      "UAU | Y | Тирозин\n",
      "UUU | F | Фенилаланин\n",
      "UUU | F | Фенилаланин\n",
      "CGU | R | Аргинин\n",
      "CCU | P | Пролин\n",
      "AUU | I | Изолейцин\n",
      "CAA | Q | Глутамин\n"
     ]
    }
   ],
   "source": [
    "# Всеми способами сразу\n",
    "acid_combined_init = protein_chain([G,A,U,C,C,A,U,U,C],[acid4, acid5, acid6],'FFRPIQ')\n",
    "acid_combined_init.full_display()"
   ]
  },
  {
   "cell_type": "markdown",
   "id": "671b868d",
   "metadata": {},
   "source": [
    "Теперь снова попробуем всё сломать."
   ]
  },
  {
   "cell_type": "code",
   "execution_count": 40,
   "id": "353d0fff",
   "metadata": {
    "scrolled": true
   },
   "outputs": [
    {
     "ename": "Exception",
     "evalue": "Unacceptable number of nucleotides. Protein chain was not creatred. Number of nucleotides must be divisible by 3.",
     "output_type": "error",
     "traceback": [
      "\u001b[1;31m---------------------------------------------------------------------------\u001b[0m",
      "\u001b[1;31mException\u001b[0m                                 Traceback (most recent call last)",
      "Cell \u001b[1;32mIn[40], line 2\u001b[0m\n\u001b[0;32m      1\u001b[0m \u001b[38;5;66;03m# Дадим число нуклеотидов, не кратное 3\u001b[39;00m\n\u001b[1;32m----> 2\u001b[0m err_prot_chain1 \u001b[38;5;241m=\u001b[39m protein_chain([A,C,U,A],[])\n",
      "Cell \u001b[1;32mIn[31], line 40\u001b[0m, in \u001b[0;36mprotein_chain.__init__\u001b[1;34m(self, nucs, am_acids, init_str)\u001b[0m\n\u001b[0;32m     38\u001b[0m     \u001b[38;5;28mself\u001b[39m\u001b[38;5;241m.\u001b[39mdisplay_str \u001b[38;5;241m=\u001b[39m \u001b[38;5;28mself\u001b[39m\u001b[38;5;241m.\u001b[39mprot_chain_code\n\u001b[0;32m     39\u001b[0m \u001b[38;5;28;01melse\u001b[39;00m:\n\u001b[1;32m---> 40\u001b[0m     \u001b[38;5;28;01mraise\u001b[39;00m \u001b[38;5;167;01mException\u001b[39;00m(\u001b[38;5;124m'\u001b[39m\u001b[38;5;124mUnacceptable number of nucleotides. Protein chain was not creatred. Number of nucleotides must be divisible by 3.\u001b[39m\u001b[38;5;124m'\u001b[39m)\n",
      "\u001b[1;31mException\u001b[0m: Unacceptable number of nucleotides. Protein chain was not creatred. Number of nucleotides must be divisible by 3."
     ]
    }
   ],
   "source": [
    "# Дадим число нуклеотидов, не кратное 3\n",
    "err_prot_chain1 = protein_chain([A,C,U,A],[])"
   ]
  },
  {
   "cell_type": "code",
   "execution_count": 42,
   "id": "3d6e2199",
   "metadata": {
    "scrolled": false
   },
   "outputs": [
    {
     "ename": "Exception",
     "evalue": "An error occured while trying to initialize the amino acid! Unacceptable letter input: r",
     "output_type": "error",
     "traceback": [
      "\u001b[1;31m---------------------------------------------------------------------------\u001b[0m",
      "\u001b[1;31mTypeError\u001b[0m                                 Traceback (most recent call last)",
      "Cell \u001b[1;32mIn[12], line 32\u001b[0m, in \u001b[0;36mamino_acid.__init__\u001b[1;34m(self, nucleotides, letter)\u001b[0m\n\u001b[0;32m     31\u001b[0m \u001b[38;5;28;01mtry\u001b[39;00m:\n\u001b[1;32m---> 32\u001b[0m     \u001b[38;5;28mself\u001b[39m\u001b[38;5;241m.\u001b[39mname, \u001b[38;5;28mself\u001b[39m\u001b[38;5;241m.\u001b[39mcode, \u001b[38;5;28mself\u001b[39m\u001b[38;5;241m.\u001b[39mletter \u001b[38;5;241m=\u001b[39m amino_name_define(letter, by_latter \u001b[38;5;241m=\u001b[39m \u001b[38;5;28;01mTrue\u001b[39;00m)\n\u001b[0;32m     33\u001b[0m     \u001b[38;5;28mself\u001b[39m\u001b[38;5;241m.\u001b[39mnucleotides \u001b[38;5;241m=\u001b[39m [nucleotide(letter) \u001b[38;5;28;01mfor\u001b[39;00m letter \u001b[38;5;129;01min\u001b[39;00m \u001b[38;5;28mself\u001b[39m\u001b[38;5;241m.\u001b[39mcode]\n",
      "\u001b[1;31mTypeError\u001b[0m: cannot unpack non-iterable NoneType object",
      "\nDuring handling of the above exception, another exception occurred:\n",
      "\u001b[1;31mException\u001b[0m                                 Traceback (most recent call last)",
      "Cell \u001b[1;32mIn[42], line 3\u001b[0m\n\u001b[0;32m      1\u001b[0m \u001b[38;5;66;03m# Дадим непонятную строку\u001b[39;00m\n\u001b[0;32m      2\u001b[0m some_str \u001b[38;5;241m=\u001b[39m \u001b[38;5;124m'\u001b[39m\u001b[38;5;124mrsff345er\u001b[39m\u001b[38;5;124m'\u001b[39m\n\u001b[1;32m----> 3\u001b[0m err_prot_chain2 \u001b[38;5;241m=\u001b[39m protein_chain([],[],some_str)\n",
      "Cell \u001b[1;32mIn[31], line 11\u001b[0m, in \u001b[0;36mprotein_chain.__init__\u001b[1;34m(self, nucs, am_acids, init_str)\u001b[0m\n\u001b[0;32m      9\u001b[0m \u001b[38;5;28;01mif\u001b[39;00m init_str \u001b[38;5;241m!=\u001b[39m \u001b[38;5;124m'\u001b[39m\u001b[38;5;124m'\u001b[39m: \n\u001b[0;32m     10\u001b[0m     \u001b[38;5;28;01mfor\u001b[39;00m acid_letter \u001b[38;5;129;01min\u001b[39;00m init_str:\n\u001b[1;32m---> 11\u001b[0m         str_prot_chain\u001b[38;5;241m.\u001b[39mappend(amino_acid([], acid_letter)) \u001b[38;5;66;03m# Создаём из строки букв список аминокислот\u001b[39;00m\n\u001b[0;32m     12\u001b[0m     \u001b[38;5;66;03m#self.prot_chain_code = init_str\u001b[39;00m\n\u001b[0;32m     13\u001b[0m     \u001b[38;5;66;03m#self.display_str = self.prot_chain_code\u001b[39;00m\n\u001b[0;32m     14\u001b[0m \n\u001b[1;32m   (...)\u001b[0m\n\u001b[0;32m     17\u001b[0m \u001b[38;5;66;03m# Протеиногенные аминокислоты состоят из 3 нуклеотидов, поэтому если их общее число не кратно 3, \u001b[39;00m\n\u001b[0;32m     18\u001b[0m \u001b[38;5;66;03m# Цепь не будет создана    \u001b[39;00m\n\u001b[0;32m     19\u001b[0m \u001b[38;5;28;01mif\u001b[39;00m \u001b[38;5;28mlen\u001b[39m(nucs) \u001b[38;5;241m%\u001b[39m \u001b[38;5;241m3\u001b[39m \u001b[38;5;241m==\u001b[39m \u001b[38;5;241m0\u001b[39m:\n",
      "Cell \u001b[1;32mIn[12], line 36\u001b[0m, in \u001b[0;36mamino_acid.__init__\u001b[1;34m(self, nucleotides, letter)\u001b[0m\n\u001b[0;32m     34\u001b[0m     \u001b[38;5;66;03m# И бросает исключение, если не находит\u001b[39;00m\n\u001b[0;32m     35\u001b[0m     \u001b[38;5;28;01mexcept\u001b[39;00m:\n\u001b[1;32m---> 36\u001b[0m         \u001b[38;5;28;01mraise\u001b[39;00m \u001b[38;5;167;01mException\u001b[39;00m(\u001b[38;5;124m'\u001b[39m\u001b[38;5;124mAn error occured while trying to initialize the amino acid! Unacceptable letter input: \u001b[39m\u001b[38;5;124m'\u001b[39m \u001b[38;5;241m+\u001b[39m letter)\n\u001b[0;32m     38\u001b[0m \u001b[38;5;28mself\u001b[39m\u001b[38;5;241m.\u001b[39mdisplay_str \u001b[38;5;241m=\u001b[39m \u001b[38;5;28mself\u001b[39m\u001b[38;5;241m.\u001b[39mcode \u001b[38;5;241m+\u001b[39m \u001b[38;5;124m'\u001b[39m\u001b[38;5;124m | \u001b[39m\u001b[38;5;124m'\u001b[39m \u001b[38;5;241m+\u001b[39m \u001b[38;5;28mself\u001b[39m\u001b[38;5;241m.\u001b[39mletter \u001b[38;5;241m+\u001b[39m\u001b[38;5;124m'\u001b[39m\u001b[38;5;124m | \u001b[39m\u001b[38;5;124m'\u001b[39m \u001b[38;5;241m+\u001b[39m \u001b[38;5;28mself\u001b[39m\u001b[38;5;241m.\u001b[39mname\n",
      "\u001b[1;31mException\u001b[0m: An error occured while trying to initialize the amino acid! Unacceptable letter input: r"
     ]
    }
   ],
   "source": [
    "# Дадим непонятную строку\n",
    "some_str = 'rsff345er'\n",
    "err_prot_chain2 = protein_chain([],[],some_str)"
   ]
  },
  {
   "cell_type": "markdown",
   "id": "ee504136",
   "metadata": {},
   "source": [
    "# Белок"
   ]
  },
  {
   "cell_type": "markdown",
   "id": "1ebfcf75",
   "metadata": {},
   "source": [
    "Класс белка, по сути, повторяет функционал, способы инициализации белковой последовательности.\n",
    "Главное дополнение к нему - оператор \"+\", который теперь позволяет получать новые белки путём сложения аминокислот, входящих в них.\n",
    "\n",
    "Перед сложением внутренний метод check_end_acids() проверяет, совпадают ли кислоты на концах двух последовательностей. Если да, то он возвращает новый белок. \n",
    "\n",
    "Также к белку можно прибавить список аминокислот сразу, без создания отдельного белка или белковой последовательности - ради экономии времени."
   ]
  },
  {
   "cell_type": "code",
   "execution_count": 44,
   "id": "70afd441",
   "metadata": {},
   "outputs": [],
   "source": [
    "class protein(protein_chain):\n",
    "    def __add__(self, other):\n",
    "        if isinstance(other, protein) or isinstance(other, protein_chain):\n",
    "            return self.check_end_acids(self, other)\n",
    "        \n",
    "        elif type(other) == str:\n",
    "            try:\n",
    "                prot_to_add = protein_chain([],[],other)\n",
    "            except:\n",
    "                raise Exception(\"Unable to add proteins: string value has to consist only of amino acid one letter codes.\")\n",
    "            return self.check_end_acids(self, prot_to_add)\n",
    "            \n",
    "        else:\n",
    "            raise Exception(\"Value to be added to protein must be a protein, a protein_chain or a string of amino acids!\")\n",
    "            \n",
    "    def check_end_acids(self, protein1, protein2):\n",
    "        if protein1.prot_chain[-1].letter == protein2.prot_chain[0].letter:\n",
    "            return protein([],protein1.prot_chain + protein2.prot_chain)\n",
    "        elif protein2.prot_chain[-1].letter == protein1.prot_chain[0].letter:\n",
    "            return protein([],protein2.prot_chain + protein1.prot_chain)\n",
    "        else:\n",
    "            raise Exception(\"Unable to add proteins: end amino acids do not match.\")"
   ]
  },
  {
   "cell_type": "markdown",
   "id": "c781224f",
   "metadata": {},
   "source": [
    "Создаём белки."
   ]
  },
  {
   "cell_type": "code",
   "execution_count": 45,
   "id": "393748fb",
   "metadata": {
    "scrolled": true
   },
   "outputs": [
    {
     "name": "stdout",
     "output_type": "stream",
     "text": [
      "FFHHI\n",
      "IHIIFFH\n"
     ]
    }
   ],
   "source": [
    "I = amino_acid([], 'I')\n",
    "F = amino_acid([], 'F')\n",
    "H = amino_acid([], 'H')\n",
    "Q = amino_acid([], 'Q')\n",
    "M = amino_acid([], 'M')\n",
    "\n",
    "\n",
    "protein1 = protein([],[F,F,H,H,I])\n",
    "protein1.display()\n",
    "\n",
    "protein2 = protein([],[I,H,I,I,F,F,H])\n",
    "protein2.display()"
   ]
  },
  {
   "cell_type": "markdown",
   "id": "5190dfa0",
   "metadata": {},
   "source": [
    "Складываем белки."
   ]
  },
  {
   "cell_type": "code",
   "execution_count": 51,
   "id": "00e30350",
   "metadata": {},
   "outputs": [
    {
     "name": "stdout",
     "output_type": "stream",
     "text": [
      "FFHHIIHIIFFH\n"
     ]
    }
   ],
   "source": [
    "protein3 = protein1 + protein2\n",
    "protein3.display()"
   ]
  },
  {
   "cell_type": "code",
   "execution_count": 50,
   "id": "e33d07d4",
   "metadata": {},
   "outputs": [
    {
     "name": "stdout",
     "output_type": "stream",
     "text": [
      "QHMF\n",
      "QHMFFFHHIIHIIFFH\n"
     ]
    }
   ],
   "source": [
    "p_chain = protein_chain([],[Q,H,M,F])\n",
    "p_chain.display()\n",
    "\n",
    "# Мы также можем складывать белки с белковыми последовательностями\n",
    "protein4 = protein3 + p_chain\n",
    "protein4.display()"
   ]
  },
  {
   "cell_type": "markdown",
   "id": "f10a1377",
   "metadata": {},
   "source": [
    "Пробуем ложить белок с последовательностью в виде строки."
   ]
  },
  {
   "cell_type": "code",
   "execution_count": 47,
   "id": "e909ed96",
   "metadata": {
    "scrolled": true
   },
   "outputs": [
    {
     "name": "stdout",
     "output_type": "stream",
     "text": [
      "IFFFHQK\n"
     ]
    }
   ],
   "source": [
    "new_protein = protein([],[],'IFF')\n",
    "new_protein2 = new_protein + 'FHQK'\n",
    "new_protein2.display()"
   ]
  },
  {
   "cell_type": "markdown",
   "id": "f1b0dbbd",
   "metadata": {},
   "source": [
    "В любой момент времени мы можем обратиться к любой из аимнокислот в белке и посмотреть, из каких нуклеотидов она состоит."
   ]
  },
  {
   "cell_type": "code",
   "execution_count": 52,
   "id": "9a628eb6",
   "metadata": {},
   "outputs": [
    {
     "name": "stdout",
     "output_type": "stream",
     "text": [
      "AUU | I | Изолейцин\n",
      "A | Аденин\n",
      "U | Урацил\n",
      "U | Урацил\n"
     ]
    }
   ],
   "source": [
    "new_protein2.prot_chain[0].display()\n",
    "\n",
    "for nuc in new_protein2.prot_chain[0].nucleotides:\n",
    "    nuc.display()"
   ]
  },
  {
   "cell_type": "markdown",
   "id": "a45717a0",
   "metadata": {},
   "source": [
    "Функция full_display(), унаследованная от protein_chain, работает и отражает всё, что хранится в белке."
   ]
  },
  {
   "cell_type": "code",
   "execution_count": 53,
   "id": "043ebc34",
   "metadata": {},
   "outputs": [
    {
     "name": "stdout",
     "output_type": "stream",
     "text": [
      "QHMFFFHHIIHIIFFH\n",
      "CAA | Q | Глутамин\n",
      "CAU | H | Гистидин\n",
      "AUG | M | Метионин\n",
      "UUU | F | Фенилаланин\n",
      "UUU | F | Фенилаланин\n",
      "UUU | F | Фенилаланин\n",
      "CAU | H | Гистидин\n",
      "CAU | H | Гистидин\n",
      "AUU | I | Изолейцин\n",
      "AUU | I | Изолейцин\n",
      "CAU | H | Гистидин\n",
      "AUU | I | Изолейцин\n",
      "AUU | I | Изолейцин\n",
      "UUU | F | Фенилаланин\n",
      "UUU | F | Фенилаланин\n",
      "CAU | H | Гистидин\n"
     ]
    }
   ],
   "source": [
    "protein4.full_display()"
   ]
  },
  {
   "cell_type": "markdown",
   "id": "3bfff131",
   "metadata": {},
   "source": [
    "Теперь снова попробуем всё сломать.\n",
    "Попытаемся сложить белки, конечные кислоты которых не совпадают. "
   ]
  },
  {
   "cell_type": "code",
   "execution_count": 54,
   "id": "81da651e",
   "metadata": {},
   "outputs": [
    {
     "ename": "Exception",
     "evalue": "Unable to add proteins: end amino acids do not match.",
     "output_type": "error",
     "traceback": [
      "\u001b[1;31m---------------------------------------------------------------------------\u001b[0m",
      "\u001b[1;31mException\u001b[0m                                 Traceback (most recent call last)",
      "Cell \u001b[1;32mIn[54], line 1\u001b[0m\n\u001b[1;32m----> 1\u001b[0m err_protein1 \u001b[38;5;241m=\u001b[39m protein2 \u001b[38;5;241m+\u001b[39m protein4\n",
      "Cell \u001b[1;32mIn[44], line 4\u001b[0m, in \u001b[0;36mprotein.__add__\u001b[1;34m(self, other)\u001b[0m\n\u001b[0;32m      2\u001b[0m \u001b[38;5;28;01mdef\u001b[39;00m \u001b[38;5;21m__add__\u001b[39m(\u001b[38;5;28mself\u001b[39m, other):\n\u001b[0;32m      3\u001b[0m     \u001b[38;5;28;01mif\u001b[39;00m \u001b[38;5;28misinstance\u001b[39m(other, protein) \u001b[38;5;129;01mor\u001b[39;00m \u001b[38;5;28misinstance\u001b[39m(other, protein_chain):\n\u001b[1;32m----> 4\u001b[0m         \u001b[38;5;28;01mreturn\u001b[39;00m \u001b[38;5;28mself\u001b[39m\u001b[38;5;241m.\u001b[39mcheck_end_acids(\u001b[38;5;28mself\u001b[39m, other)\n\u001b[0;32m      6\u001b[0m     \u001b[38;5;28;01melif\u001b[39;00m \u001b[38;5;28mtype\u001b[39m(other) \u001b[38;5;241m==\u001b[39m \u001b[38;5;28mstr\u001b[39m:\n\u001b[0;32m      7\u001b[0m         \u001b[38;5;28;01mtry\u001b[39;00m:\n",
      "Cell \u001b[1;32mIn[44], line 22\u001b[0m, in \u001b[0;36mprotein.check_end_acids\u001b[1;34m(self, protein1, protein2)\u001b[0m\n\u001b[0;32m     20\u001b[0m     \u001b[38;5;28;01mreturn\u001b[39;00m protein([],protein2\u001b[38;5;241m.\u001b[39mprot_chain \u001b[38;5;241m+\u001b[39m protein1\u001b[38;5;241m.\u001b[39mprot_chain)\n\u001b[0;32m     21\u001b[0m \u001b[38;5;28;01melse\u001b[39;00m:\n\u001b[1;32m---> 22\u001b[0m     \u001b[38;5;28;01mraise\u001b[39;00m \u001b[38;5;167;01mException\u001b[39;00m(\u001b[38;5;124m\"\u001b[39m\u001b[38;5;124mUnable to add proteins: end amino acids do not match.\u001b[39m\u001b[38;5;124m\"\u001b[39m)\n",
      "\u001b[1;31mException\u001b[0m: Unable to add proteins: end amino acids do not match."
     ]
    }
   ],
   "source": [
    "err_protein1 = protein2 + protein4"
   ]
  },
  {
   "cell_type": "markdown",
   "id": "f3f066a5",
   "metadata": {},
   "source": [
    "Теперь попробуем то же самое со строкой, содержащей ошибочный ввод кислот:"
   ]
  },
  {
   "cell_type": "code",
   "execution_count": 55,
   "id": "8f6bafac",
   "metadata": {
    "scrolled": false
   },
   "outputs": [
    {
     "ename": "Exception",
     "evalue": "Unable to add proteins: string value has to consist only of amino acid one letter codes.",
     "output_type": "error",
     "traceback": [
      "\u001b[1;31m---------------------------------------------------------------------------\u001b[0m",
      "\u001b[1;31mTypeError\u001b[0m                                 Traceback (most recent call last)",
      "Cell \u001b[1;32mIn[12], line 32\u001b[0m, in \u001b[0;36mamino_acid.__init__\u001b[1;34m(self, nucleotides, letter)\u001b[0m\n\u001b[0;32m     31\u001b[0m \u001b[38;5;28;01mtry\u001b[39;00m:\n\u001b[1;32m---> 32\u001b[0m     \u001b[38;5;28mself\u001b[39m\u001b[38;5;241m.\u001b[39mname, \u001b[38;5;28mself\u001b[39m\u001b[38;5;241m.\u001b[39mcode, \u001b[38;5;28mself\u001b[39m\u001b[38;5;241m.\u001b[39mletter \u001b[38;5;241m=\u001b[39m amino_name_define(letter, by_latter \u001b[38;5;241m=\u001b[39m \u001b[38;5;28;01mTrue\u001b[39;00m)\n\u001b[0;32m     33\u001b[0m     \u001b[38;5;28mself\u001b[39m\u001b[38;5;241m.\u001b[39mnucleotides \u001b[38;5;241m=\u001b[39m [nucleotide(letter) \u001b[38;5;28;01mfor\u001b[39;00m letter \u001b[38;5;129;01min\u001b[39;00m \u001b[38;5;28mself\u001b[39m\u001b[38;5;241m.\u001b[39mcode]\n",
      "\u001b[1;31mTypeError\u001b[0m: cannot unpack non-iterable NoneType object",
      "\nDuring handling of the above exception, another exception occurred:\n",
      "\u001b[1;31mException\u001b[0m                                 Traceback (most recent call last)",
      "Cell \u001b[1;32mIn[44], line 8\u001b[0m, in \u001b[0;36mprotein.__add__\u001b[1;34m(self, other)\u001b[0m\n\u001b[0;32m      7\u001b[0m \u001b[38;5;28;01mtry\u001b[39;00m:\n\u001b[1;32m----> 8\u001b[0m     prot_to_add \u001b[38;5;241m=\u001b[39m protein_chain([],[],other)\n\u001b[0;32m      9\u001b[0m \u001b[38;5;28;01mexcept\u001b[39;00m:\n",
      "Cell \u001b[1;32mIn[31], line 11\u001b[0m, in \u001b[0;36mprotein_chain.__init__\u001b[1;34m(self, nucs, am_acids, init_str)\u001b[0m\n\u001b[0;32m     10\u001b[0m     \u001b[38;5;28;01mfor\u001b[39;00m acid_letter \u001b[38;5;129;01min\u001b[39;00m init_str:\n\u001b[1;32m---> 11\u001b[0m         str_prot_chain\u001b[38;5;241m.\u001b[39mappend(amino_acid([], acid_letter)) \u001b[38;5;66;03m# Создаём из строки букв список аминокислот\u001b[39;00m\n\u001b[0;32m     12\u001b[0m     \u001b[38;5;66;03m#self.prot_chain_code = init_str\u001b[39;00m\n\u001b[0;32m     13\u001b[0m     \u001b[38;5;66;03m#self.display_str = self.prot_chain_code\u001b[39;00m\n\u001b[0;32m     14\u001b[0m \n\u001b[1;32m   (...)\u001b[0m\n\u001b[0;32m     17\u001b[0m \u001b[38;5;66;03m# Протеиногенные аминокислоты состоят из 3 нуклеотидов, поэтому если их общее число не кратно 3, \u001b[39;00m\n\u001b[0;32m     18\u001b[0m \u001b[38;5;66;03m# Цепь не будет создана    \u001b[39;00m\n",
      "Cell \u001b[1;32mIn[12], line 36\u001b[0m, in \u001b[0;36mamino_acid.__init__\u001b[1;34m(self, nucleotides, letter)\u001b[0m\n\u001b[0;32m     35\u001b[0m     \u001b[38;5;28;01mexcept\u001b[39;00m:\n\u001b[1;32m---> 36\u001b[0m         \u001b[38;5;28;01mraise\u001b[39;00m \u001b[38;5;167;01mException\u001b[39;00m(\u001b[38;5;124m'\u001b[39m\u001b[38;5;124mAn error occured while trying to initialize the amino acid! Unacceptable letter input: \u001b[39m\u001b[38;5;124m'\u001b[39m \u001b[38;5;241m+\u001b[39m letter)\n\u001b[0;32m     38\u001b[0m \u001b[38;5;28mself\u001b[39m\u001b[38;5;241m.\u001b[39mdisplay_str \u001b[38;5;241m=\u001b[39m \u001b[38;5;28mself\u001b[39m\u001b[38;5;241m.\u001b[39mcode \u001b[38;5;241m+\u001b[39m \u001b[38;5;124m'\u001b[39m\u001b[38;5;124m | \u001b[39m\u001b[38;5;124m'\u001b[39m \u001b[38;5;241m+\u001b[39m \u001b[38;5;28mself\u001b[39m\u001b[38;5;241m.\u001b[39mletter \u001b[38;5;241m+\u001b[39m\u001b[38;5;124m'\u001b[39m\u001b[38;5;124m | \u001b[39m\u001b[38;5;124m'\u001b[39m \u001b[38;5;241m+\u001b[39m \u001b[38;5;28mself\u001b[39m\u001b[38;5;241m.\u001b[39mname\n",
      "\u001b[1;31mException\u001b[0m: An error occured while trying to initialize the amino acid! Unacceptable letter input: b",
      "\nDuring handling of the above exception, another exception occurred:\n",
      "\u001b[1;31mException\u001b[0m                                 Traceback (most recent call last)",
      "Cell \u001b[1;32mIn[55], line 1\u001b[0m\n\u001b[1;32m----> 1\u001b[0m err_protein2 \u001b[38;5;241m=\u001b[39m protein2 \u001b[38;5;241m+\u001b[39m \u001b[38;5;124m'\u001b[39m\u001b[38;5;124mbanana\u001b[39m\u001b[38;5;124m'\u001b[39m\n",
      "Cell \u001b[1;32mIn[44], line 10\u001b[0m, in \u001b[0;36mprotein.__add__\u001b[1;34m(self, other)\u001b[0m\n\u001b[0;32m      8\u001b[0m         prot_to_add \u001b[38;5;241m=\u001b[39m protein_chain([],[],other)\n\u001b[0;32m      9\u001b[0m     \u001b[38;5;28;01mexcept\u001b[39;00m:\n\u001b[1;32m---> 10\u001b[0m         \u001b[38;5;28;01mraise\u001b[39;00m \u001b[38;5;167;01mException\u001b[39;00m(\u001b[38;5;124m\"\u001b[39m\u001b[38;5;124mUnable to add proteins: string value has to consist only of amino acid one letter codes.\u001b[39m\u001b[38;5;124m\"\u001b[39m)\n\u001b[0;32m     11\u001b[0m     \u001b[38;5;28;01mreturn\u001b[39;00m \u001b[38;5;28mself\u001b[39m\u001b[38;5;241m.\u001b[39mcheck_end_acids(\u001b[38;5;28mself\u001b[39m, prot_to_add)\n\u001b[0;32m     13\u001b[0m \u001b[38;5;28;01melse\u001b[39;00m:\n",
      "\u001b[1;31mException\u001b[0m: Unable to add proteins: string value has to consist only of amino acid one letter codes."
     ]
    }
   ],
   "source": [
    "err_protein2 = protein2 + 'banana'"
   ]
  },
  {
   "cell_type": "markdown",
   "id": "37cd47e6",
   "metadata": {},
   "source": [
    "# Заключение"
   ]
  },
  {
   "cell_type": "markdown",
   "id": "440ff1bf",
   "metadata": {},
   "source": [
    "Теперь, если коллеги захотят создать, например, белок FQHDPIRRKGKTW, то они могут:"
   ]
  },
  {
   "cell_type": "code",
   "execution_count": 56,
   "id": "912b88cd",
   "metadata": {},
   "outputs": [],
   "source": [
    "# Создать нужные им нуклеотиды\n",
    "nuc_a = nucleotide('A')\n",
    "nuc_c = nucleotide('C')\n",
    "nuc_g = nucleotide('G')\n",
    "nuc_u = nucleotide('U')"
   ]
  },
  {
   "cell_type": "code",
   "execution_count": 58,
   "id": "4bf3da92",
   "metadata": {},
   "outputs": [
    {
     "name": "stdout",
     "output_type": "stream",
     "text": [
      "UUU | F | Фенилаланин\n",
      "CAA | Q | Глутамин\n"
     ]
    }
   ],
   "source": [
    "# Собрать из них несколько кислот\n",
    "acid_f = amino_acid([nuc_u,nuc_u,nuc_u])\n",
    "acid_f.display()\n",
    "\n",
    "acid_q = amino_acid([nuc_c,nuc_a,nuc_a])\n",
    "acid_q.display()"
   ]
  },
  {
   "cell_type": "code",
   "execution_count": 62,
   "id": "d6659d3d",
   "metadata": {},
   "outputs": [
    {
     "name": "stdout",
     "output_type": "stream",
     "text": [
      "CAU | H | Гистидин\n",
      "GAU | D | Аспарагиновая кислота\n"
     ]
    }
   ],
   "source": [
    "# Понять, что это очень муторный процесс, и вообще можно создавать кислоты быстрее - буквами\n",
    "acid_h = amino_acid([],'H')\n",
    "acid_h.display()\n",
    "acid_d = amino_acid([],'D')\n",
    "acid_d.display()"
   ]
  },
  {
   "cell_type": "code",
   "execution_count": 63,
   "id": "ac96b7d5",
   "metadata": {},
   "outputs": [
    {
     "name": "stdout",
     "output_type": "stream",
     "text": [
      "FQHDPIR\n"
     ]
    }
   ],
   "source": [
    "# Понять, что и это требует очень много времени, и на самом деле уже можно создать цепочку при помощи уже существующих кислот\n",
    "# и буквенных обозначений новых \n",
    "protein_ch1 = protein_chain([],[acid_f, acid_q, acid_h, acid_d], 'PIR')\n",
    "protein_ch1.display()"
   ]
  },
  {
   "cell_type": "code",
   "execution_count": 64,
   "id": "55bba5d1",
   "metadata": {},
   "outputs": [
    {
     "name": "stdout",
     "output_type": "stream",
     "text": [
      "RKGKTW\n"
     ]
    }
   ],
   "source": [
    "# И вообще целый белок можно создать только бувенными кодами\n",
    "_protein = protein([],[],'RKGKTW')\n",
    "_protein.display()"
   ]
  },
  {
   "cell_type": "code",
   "execution_count": 65,
   "id": "25fd603b",
   "metadata": {},
   "outputs": [
    {
     "name": "stdout",
     "output_type": "stream",
     "text": [
      "FQHDPIRRKGKTW\n",
      "UUU | F | Фенилаланин\n",
      "CAA | Q | Глутамин\n",
      "CAU | H | Гистидин\n",
      "GAU | D | Аспарагиновая кислота\n",
      "CCU | P | Пролин\n",
      "AUU | I | Изолейцин\n",
      "CGU | R | Аргинин\n",
      "CGU | R | Аргинин\n",
      "AAA | K | Лизин\n",
      "GGU | G | Глицин\n",
      "AAA | K | Лизин\n",
      "ACU | T | Треонин\n",
      "UGG | W | Триптофан\n"
     ]
    }
   ],
   "source": [
    "# И теперь белок с цепочкой можно сложить и получить то, что нам нужно было\n",
    "needed_protein = _protein + protein_ch1\n",
    "needed_protein.full_display()"
   ]
  }
 ],
 "metadata": {
  "kernelspec": {
   "display_name": "Python 3 (ipykernel)",
   "language": "python",
   "name": "python3"
  },
  "language_info": {
   "codemirror_mode": {
    "name": "ipython",
    "version": 3
   },
   "file_extension": ".py",
   "mimetype": "text/x-python",
   "name": "python",
   "nbconvert_exporter": "python",
   "pygments_lexer": "ipython3",
   "version": "3.11.4"
  }
 },
 "nbformat": 4,
 "nbformat_minor": 5
}
